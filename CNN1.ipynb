{
  "nbformat": 4,
  "nbformat_minor": 0,
  "metadata": {
    "colab": {
      "name": "CNN1.ipynb",
      "provenance": [],
      "collapsed_sections": [],
      "authorship_tag": "ABX9TyNWw8hTVLaUMtaK1AJ1aJcw",
      "include_colab_link": true
    },
    "kernelspec": {
      "name": "python3",
      "display_name": "Python 3"
    }
  },
  "cells": [
    {
      "cell_type": "markdown",
      "metadata": {
        "id": "view-in-github",
        "colab_type": "text"
      },
      "source": [
        "<a href=\"https://colab.research.google.com/github/sachin2000k/CodeDown-Projects/blob/master/CNN1.ipynb\" target=\"_parent\"><img src=\"https://colab.research.google.com/assets/colab-badge.svg\" alt=\"Open In Colab\"/></a>"
      ]
    },
    {
      "cell_type": "markdown",
      "metadata": {
        "id": "fM2XxAWfC8lT",
        "colab_type": "text"
      },
      "source": [
        "#Deep CNN consists many neural network layers.\n",
        "- There are two types of layers: convolutional and pooling.\n",
        "- Depth of each filter increases from left to right\n",
        "- Last stage is typically made of one or more fully connected layers."
      ]
    },
    {
      "cell_type": "markdown",
      "metadata": {
        "id": "cCkaB0BuF5DO",
        "colab_type": "text"
      },
      "source": [
        "# Main concepts in cnvnets\n",
        "- Local Receptive Fields\n",
        "- Shared weights\n",
        "- Pooling\n"
      ]
    },
    {
      "cell_type": "markdown",
      "metadata": {
        "id": "i6sdVxE7GK-z",
        "colab_type": "text"
      },
      "source": [
        "# Local Receptive Fields\n",
        "- for preserving spatial information of image it is represented with a matrix of pixels\n",
        "- To encode the local structure  is to create submatrix of adjacent input neurons into single hidden neuron belonging to next layer.\n",
        "- That single hidden neuron represents one local receptive field and the operation is called convolution. "
      ]
    },
    {
      "cell_type": "code",
      "metadata": {
        "id": "Ufj5Bfh6CGNx",
        "colab_type": "code",
        "colab": {}
      },
      "source": [
        "# convolutionsal layer with 32 parallel features and a filter size of 3X3\n",
        "import tensorflow as tf\n",
        "from tensorflow.keras import layers, models, datasets\n",
        "model = models.Sequential()\n",
        "model.add(layers.Conv2D(32, (3,3), activation = 'relu', input_shape = (28,28,1)))"
      ],
      "execution_count": 0,
      "outputs": []
    },
    {
      "cell_type": "markdown",
      "metadata": {
        "id": "GJskWL9XVhbm",
        "colab_type": "text"
      },
      "source": [
        "we are applying a 3X3 convolution on 28X28 images with one input channel resulting in 32 output channels"
      ]
    },
    {
      "cell_type": "code",
      "metadata": {
        "id": "mVTDGzQVVcF3",
        "colab_type": "code",
        "colab": {}
      },
      "source": [
        "#Pooling layer\n",
        "#model.add(layers.MaxPool2D(2,2))\n"
      ],
      "execution_count": 0,
      "outputs": []
    },
    {
      "cell_type": "markdown",
      "metadata": {
        "id": "yPGcgszb7Fuy",
        "colab_type": "text"
      },
      "source": [
        "#HERE WE WILL APPLY DEEP CNNs TO MNIST DATASET AND TRY TO ACHIEVE BETTER ACCURACY"
      ]
    },
    {
      "cell_type": "code",
      "metadata": {
        "id": "RArf7diymL8s",
        "colab_type": "code",
        "colab": {}
      },
      "source": [
        "import tensorflow as tf\n",
        "from tensorflow.keras import datasets, layers, models, optimizers\n",
        "EPOCHS = 5\n",
        "BATCH_SIZE = 128\n",
        "VERBOSE = 1\n",
        "OPTIMIZER = tf.keras.optimizers.Adam()\n",
        "VALIDATION_SPLIT = 0.95\n",
        "IMG_ROWS, IMG_COLS = 28,28 # Input dimensions\n",
        "INPUT_SHAPE = (IMG_ROWS, IMG_COLS, 1)\n",
        "NB_CLASSES = 10\n"
      ],
      "execution_count": 0,
      "outputs": []
    },
    {
      "cell_type": "code",
      "metadata": {
        "id": "ogOj2rMusF8p",
        "colab_type": "code",
        "colab": {}
      },
      "source": [
        "\n",
        "def build(input_shape, classes):\n",
        "  model = models.Sequential()\n",
        "  #conv->relu->pool\n",
        "  model.add(layers.Convolution2D(20,(5,5),activation='relu', input_shape = input_shape))\n",
        "  model.add(layers.MaxPooling2D(pool_size=(2,2), strides =(2,2)))\n",
        "  #conv->relu->pool\n",
        "  model.add(layers.Convolution2D(50, (5,5), activation = 'relu'))\n",
        "  model.add(layers.MaxPooling2D(pool_size = (2,2), strides=(2,2)))\n",
        "  #flatten -> relu layers\n",
        "  model.add(layers.Flatten())\n",
        "  model.add(layers.Dense(500, activation='relu'))\n",
        "  #softmax classifier\n",
        "  model.add(layers.Dense(classes, activation='softmax'))\n",
        "  return model"
      ],
      "execution_count": 0,
      "outputs": []
    },
    {
      "cell_type": "code",
      "metadata": {
        "id": "ku7dhsSpsJnz",
        "colab_type": "code",
        "colab": {
          "base_uri": "https://localhost:8080/",
          "height": 87
        },
        "outputId": "6714dd69-3386-4514-88a2-faed730d39e9"
      },
      "source": [
        "(X_train, y_train), (X_test, y_test) = datasets.mnist.load_data()\n",
        "# reshape\n",
        "print(X_train.shape, y_train.shape, X_test.shape, y_test.shape)\n",
        "X_train = X_train.reshape((60000, 28, 28, 1))\n",
        "X_test = X_test.reshape((10000, 28,28,1))\n",
        "X_train, X_test = X_train/255.0, X_test/255.0\n",
        "X_train = X_train.astype('float32')\n",
        "X_test = X_test.astype('float32')\n",
        "y_train = tf.keras.utils.to_categorical(y_train, NB_CLASSES)\n",
        "y_test = tf.keras.utils.to_categorical(y_test, NB_CLASSES)"
      ],
      "execution_count": 6,
      "outputs": [
        {
          "output_type": "stream",
          "text": [
            "Downloading data from https://storage.googleapis.com/tensorflow/tf-keras-datasets/mnist.npz\n",
            "11493376/11490434 [==============================] - 0s 0us/step\n",
            "(60000, 28, 28) (60000,) (10000, 28, 28) (10000,)\n"
          ],
          "name": "stdout"
        }
      ]
    },
    {
      "cell_type": "code",
      "metadata": {
        "id": "u7w2C4F8uWVU",
        "colab_type": "code",
        "colab": {
          "base_uri": "https://localhost:8080/",
          "height": 386
        },
        "outputId": "8a86ea0c-b728-4348-e69c-6a2e7536a996"
      },
      "source": [
        "model = build(input_shape = INPUT_SHAPE, classes = NB_CLASSES)\n",
        "#Try changing the parameters of the compile function like optimizer = ADAM and so on\n",
        "model.compile(loss = \"categorical_crossentropy\", optimizer=OPTIMIZER, metrics = ['accuracy'])\n",
        "model.summary()"
      ],
      "execution_count": 8,
      "outputs": [
        {
          "output_type": "stream",
          "text": [
            "Model: \"sequential_2\"\n",
            "_________________________________________________________________\n",
            "Layer (type)                 Output Shape              Param #   \n",
            "=================================================================\n",
            "conv2d_3 (Conv2D)            (None, 24, 24, 20)        520       \n",
            "_________________________________________________________________\n",
            "max_pooling2d_2 (MaxPooling2 (None, 12, 12, 20)        0         \n",
            "_________________________________________________________________\n",
            "conv2d_4 (Conv2D)            (None, 8, 8, 50)          25050     \n",
            "_________________________________________________________________\n",
            "max_pooling2d_3 (MaxPooling2 (None, 4, 4, 50)          0         \n",
            "_________________________________________________________________\n",
            "flatten_1 (Flatten)          (None, 800)               0         \n",
            "_________________________________________________________________\n",
            "dense_2 (Dense)              (None, 500)               400500    \n",
            "_________________________________________________________________\n",
            "dense_3 (Dense)              (None, 10)                5010      \n",
            "=================================================================\n",
            "Total params: 431,080\n",
            "Trainable params: 431,080\n",
            "Non-trainable params: 0\n",
            "_________________________________________________________________\n"
          ],
          "name": "stdout"
        }
      ]
    },
    {
      "cell_type": "markdown",
      "metadata": {
        "id": "luLghc277md-",
        "colab_type": "text"
      },
      "source": [
        "Callbacks is mainly used to store your progress and to draw a graph in Tensorboard"
      ]
    },
    {
      "cell_type": "code",
      "metadata": {
        "id": "UA8UHqilvDwx",
        "colab_type": "code",
        "colab": {}
      },
      "source": [
        "callbacks = [ tf.keras.callbacks.TensorBoard(log_dir='./content./logs')]"
      ],
      "execution_count": 0,
      "outputs": []
    },
    {
      "cell_type": "code",
      "metadata": {
        "id": "4KKXh5D2v3D9",
        "colab_type": "code",
        "colab": {
          "base_uri": "https://localhost:8080/",
          "height": 205
        },
        "outputId": "9098ac2e-35ad-43c4-c01f-3e7c64f059df"
      },
      "source": [
        "history = model.fit(X_train, y_train, batch_size=BATCH_SIZE, verbose=VERBOSE,\n",
        "                    epochs = EPOCHS, validation_split = VALIDATION_SPLIT,\n",
        "                    callbacks = callbacks)"
      ],
      "execution_count": 10,
      "outputs": [
        {
          "output_type": "stream",
          "text": [
            "Epoch 1/5\n",
            "24/24 [==============================] - 15s 616ms/step - loss: 1.1851 - accuracy: 0.6400 - val_loss: 0.4820 - val_accuracy: 0.8499\n",
            "Epoch 2/5\n",
            "24/24 [==============================] - 15s 609ms/step - loss: 0.3594 - accuracy: 0.8960 - val_loss: 0.3281 - val_accuracy: 0.9035\n",
            "Epoch 3/5\n",
            "24/24 [==============================] - 15s 608ms/step - loss: 0.2354 - accuracy: 0.9343 - val_loss: 0.2377 - val_accuracy: 0.9258\n",
            "Epoch 4/5\n",
            "24/24 [==============================] - 15s 619ms/step - loss: 0.1633 - accuracy: 0.9557 - val_loss: 0.1792 - val_accuracy: 0.9444\n",
            "Epoch 5/5\n",
            "24/24 [==============================] - 15s 610ms/step - loss: 0.1143 - accuracy: 0.9697 - val_loss: 0.1528 - val_accuracy: 0.9527\n"
          ],
          "name": "stdout"
        }
      ]
    },
    {
      "cell_type": "code",
      "metadata": {
        "id": "bT6ToNVWwewJ",
        "colab_type": "code",
        "colab": {
          "base_uri": "https://localhost:8080/",
          "height": 104
        },
        "outputId": "f0d44c35-4da5-4c96-f128-8dc5876fab81"
      },
      "source": [
        "score = model.evaluate(X_test, y_test, verbose = VERBOSE)\n",
        "print('\\nTest score:', score[0])\n",
        "print('Test accuracy', score[1])"
      ],
      "execution_count": 11,
      "outputs": [
        {
          "output_type": "stream",
          "text": [
            "313/313 [==============================] - 3s 9ms/step - loss: 0.1368 - accuracy: 0.9563\n",
            "\n",
            "Test score: 0.13683053851127625\n",
            "Test accuracy 0.9563000202178955\n"
          ],
          "name": "stdout"
        }
      ]
    },
    {
      "cell_type": "code",
      "metadata": {
        "id": "hUqpUFcFw6iW",
        "colab_type": "code",
        "colab": {
          "base_uri": "https://localhost:8080/",
          "height": 709
        },
        "outputId": "988ae24b-ad5b-4388-f194-22ee437dfffb"
      },
      "source": [
        "history2 = model.fit(X_train, y_train, batch_size=BATCH_SIZE, epochs=20,\n",
        "                     verbose = VERBOSE, callbacks = callbacks,\n",
        "                     validation_split = VALIDATION_SPLIT)"
      ],
      "execution_count": 12,
      "outputs": [
        {
          "output_type": "stream",
          "text": [
            "Epoch 1/20\n",
            "24/24 [==============================] - 14s 596ms/step - loss: 0.0982 - accuracy: 0.9737 - val_loss: 0.1759 - val_accuracy: 0.9441\n",
            "Epoch 2/20\n",
            "24/24 [==============================] - 14s 595ms/step - loss: 0.0804 - accuracy: 0.9757 - val_loss: 0.1279 - val_accuracy: 0.9614\n",
            "Epoch 3/20\n",
            "24/24 [==============================] - 14s 582ms/step - loss: 0.0589 - accuracy: 0.9863 - val_loss: 0.1378 - val_accuracy: 0.9567\n",
            "Epoch 4/20\n",
            "24/24 [==============================] - 14s 599ms/step - loss: 0.0450 - accuracy: 0.9880 - val_loss: 0.1232 - val_accuracy: 0.9603\n",
            "Epoch 5/20\n",
            "24/24 [==============================] - 14s 599ms/step - loss: 0.0330 - accuracy: 0.9920 - val_loss: 0.1253 - val_accuracy: 0.9620\n",
            "Epoch 6/20\n",
            "24/24 [==============================] - 14s 604ms/step - loss: 0.0223 - accuracy: 0.9967 - val_loss: 0.1300 - val_accuracy: 0.9617\n",
            "Epoch 7/20\n",
            "24/24 [==============================] - 14s 602ms/step - loss: 0.0226 - accuracy: 0.9930 - val_loss: 0.1111 - val_accuracy: 0.9666\n",
            "Epoch 8/20\n",
            "24/24 [==============================] - 14s 601ms/step - loss: 0.0157 - accuracy: 0.9963 - val_loss: 0.1312 - val_accuracy: 0.9631\n",
            "Epoch 9/20\n",
            "24/24 [==============================] - 14s 598ms/step - loss: 0.0096 - accuracy: 0.9993 - val_loss: 0.1401 - val_accuracy: 0.9618\n",
            "Epoch 10/20\n",
            "24/24 [==============================] - 14s 601ms/step - loss: 0.0072 - accuracy: 0.9993 - val_loss: 0.1233 - val_accuracy: 0.9657\n",
            "Epoch 11/20\n",
            "24/24 [==============================] - 15s 614ms/step - loss: 0.0053 - accuracy: 0.9997 - val_loss: 0.1238 - val_accuracy: 0.9674\n",
            "Epoch 12/20\n",
            "24/24 [==============================] - 15s 616ms/step - loss: 0.0054 - accuracy: 0.9990 - val_loss: 0.1220 - val_accuracy: 0.9658\n",
            "Epoch 13/20\n",
            "24/24 [==============================] - 15s 612ms/step - loss: 0.0051 - accuracy: 0.9990 - val_loss: 0.1361 - val_accuracy: 0.9654\n",
            "Epoch 14/20\n",
            "24/24 [==============================] - 15s 614ms/step - loss: 0.0040 - accuracy: 0.9993 - val_loss: 0.1231 - val_accuracy: 0.9684\n",
            "Epoch 15/20\n",
            "24/24 [==============================] - 14s 593ms/step - loss: 0.0020 - accuracy: 1.0000 - val_loss: 0.1218 - val_accuracy: 0.9692\n",
            "Epoch 16/20\n",
            "24/24 [==============================] - 14s 593ms/step - loss: 0.0013 - accuracy: 1.0000 - val_loss: 0.1219 - val_accuracy: 0.9696\n",
            "Epoch 17/20\n",
            "24/24 [==============================] - 14s 592ms/step - loss: 0.0011 - accuracy: 1.0000 - val_loss: 0.1256 - val_accuracy: 0.9690\n",
            "Epoch 18/20\n",
            "24/24 [==============================] - 14s 592ms/step - loss: 9.6606e-04 - accuracy: 1.0000 - val_loss: 0.1322 - val_accuracy: 0.9681\n",
            "Epoch 19/20\n",
            "24/24 [==============================] - 14s 591ms/step - loss: 9.7000e-04 - accuracy: 1.0000 - val_loss: 0.1275 - val_accuracy: 0.9688\n",
            "Epoch 20/20\n",
            "24/24 [==============================] - 14s 590ms/step - loss: 7.1459e-04 - accuracy: 1.0000 - val_loss: 0.1294 - val_accuracy: 0.9692\n"
          ],
          "name": "stdout"
        }
      ]
    },
    {
      "cell_type": "code",
      "metadata": {
        "id": "GbVdiSXf0ytM",
        "colab_type": "code",
        "colab": {
          "base_uri": "https://localhost:8080/",
          "height": 104
        },
        "outputId": "bb7908f6-6168-41f7-dc7f-26dcdbe596f5"
      },
      "source": [
        "score = model.evaluate(X_test, y_test, verbose = VERBOSE)\n",
        "print('\\nTest score:', score[0])\n",
        "print('Test accuracy', score[1])"
      ],
      "execution_count": 13,
      "outputs": [
        {
          "output_type": "stream",
          "text": [
            "313/313 [==============================] - 3s 9ms/step - loss: 0.0988 - accuracy: 0.9726\n",
            "\n",
            "Test score: 0.09879717975854874\n",
            "Test accuracy 0.972599983215332\n"
          ],
          "name": "stdout"
        }
      ]
    },
    {
      "cell_type": "code",
      "metadata": {
        "id": "9dqitnT24s49",
        "colab_type": "code",
        "colab": {
          "base_uri": "https://localhost:8080/",
          "height": 34
        },
        "outputId": "3e4358f8-d98f-40a7-d6b8-2aafef645dd9"
      },
      "source": [
        "history2.history.keys()"
      ],
      "execution_count": 15,
      "outputs": [
        {
          "output_type": "execute_result",
          "data": {
            "text/plain": [
              "dict_keys(['loss', 'accuracy', 'val_loss', 'val_accuracy'])"
            ]
          },
          "metadata": {
            "tags": []
          },
          "execution_count": 15
        }
      ]
    },
    {
      "cell_type": "code",
      "metadata": {
        "id": "73us3CTp40ah",
        "colab_type": "code",
        "colab": {
          "base_uri": "https://localhost:8080/",
          "height": 573
        },
        "outputId": "530cf92e-8ffb-4468-b546-f00ac8d358eb"
      },
      "source": [
        "import matplotlib.pyplot as plt\n",
        "plt.plot(history2.history['accuracy'])\n",
        "plt.plot(history2.history['val_accuracy'])\n",
        "plt.title('model accuracy')\n",
        "plt.ylabel('accuracy')\n",
        "plt.xlabel('epoch')\n",
        "plt.legend(['train', 'test'], loc='upper left')\n",
        "plt.show()\n",
        "# summarize history for loss\n",
        "plt.plot(history2.history['loss'])\n",
        "plt.plot(history2.history['val_loss'])\n",
        "plt.title('model loss')\n",
        "plt.ylabel('loss')\n",
        "plt.xlabel('epoch')\n",
        "plt.legend(['train', 'test'], loc='upper left')\n",
        "plt.show()"
      ],
      "execution_count": 16,
      "outputs": [
        {
          "output_type": "display_data",
          "data": {
            "image/png": "[encoded data removed]",
            "text/plain": [
              "<Figure size 432x288 with 1 Axes>"
            ]
          },
          "metadata": {
            "tags": [],
            "needs_background": "light"
          }
        },
        {
          "output_type": "display_data",
          "data": {
            "image/png": "[encoded data removed]",
            "text/plain": [
              "<Figure size 432x288 with 1 Axes>"
            ]
          },
          "metadata": {
            "tags": [],
            "needs_background": "light"
          }
        }
      ]
    },
    {
      "cell_type": "code",
      "metadata": {
        "id": "udTmLDg55VZO",
        "colab_type": "code",
        "colab": {}
      },
      "source": [
        ""
      ],
      "execution_count": 0,
      "outputs": []
    }
  ]
}