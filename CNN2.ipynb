{
  "nbformat": 4,
  "nbformat_minor": 0,
  "metadata": {
    "colab": {
      "name": "CNN2.ipynb",
      "provenance": [],
      "authorship_tag": "ABX9TyOW7Y3k8/9DcxIKmLoAzh8H",
      "include_colab_link": true
    },
    "kernelspec": {
      "name": "python3",
      "display_name": "Python 3"
    },
    "accelerator": "GPU"
  },
  "cells": [
    {
      "cell_type": "markdown",
      "metadata": {
        "id": "view-in-github",
        "colab_type": "text"
      },
      "source": [
        "<a href=\"https://colab.research.google.com/github/sachin2000k/CodeDown-Projects/blob/master/CNN2.ipynb\" target=\"_parent\"><img src=\"https://colab.research.google.com/assets/colab-badge.svg\" alt=\"Open In Colab\"/></a>"
      ]
    },
    {
      "cell_type": "markdown",
      "metadata": {
        "id": "wAvecA-9m1lS",
        "colab_type": "text"
      },
      "source": [
        "#working on CIFAR-10"
      ]
    },
    {
      "cell_type": "code",
      "metadata": {
        "id": "PLM0D-rgm6Tk",
        "colab_type": "code",
        "colab": {}
      },
      "source": [
        "import tensorflow as tf\n",
        "from tensorflow.keras import layers, datasets, models, optimizers"
      ],
      "execution_count": 0,
      "outputs": []
    },
    {
      "cell_type": "code",
      "metadata": {
        "id": "DPK7o3dxnVut",
        "colab_type": "code",
        "colab": {}
      },
      "source": [
        "IMG_CHANNELS = 3 #(RBG)\n",
        "IMG_ROWS = 32\n",
        "IMG_COLS = 32\n",
        "\n",
        "BATCH_SIZE = 128\n",
        "EPOCHS = 20\n",
        "CLASSES = 10\n",
        "VERBOSE = 1\n",
        "VALIDATION_SPLIT = 0.2\n",
        "OPTIM = tf.keras.optimizers.RMSprop()\n",
        "INPUT_SHAPE = (IMG_ROWS, IMG_COLS, 3)"
      ],
      "execution_count": 0,
      "outputs": []
    },
    {
      "cell_type": "markdown",
      "metadata": {
        "id": "j1cipTHXn3YG",
        "colab_type": "text"
      },
      "source": [
        "- 32 convolutional filters (3X3)\n",
        "- output = 32X32, activation = relu\n",
        "- max pooling(2X2)\n",
        "- dropout = 25%\n",
        "--\n",
        "- dense network with 512 units, activation = Relu\n",
        "- dropout = 50%\n",
        "- softmax layer with 10 classes "
      ]
    },
    {
      "cell_type": "code",
      "metadata": {
        "id": "ZCAx1O8Rnx6m",
        "colab_type": "code",
        "colab": {}
      },
      "source": [
        "def build(input_shape, classes):\n",
        "  model = models.Sequential()\n",
        "  model.add(layers.Convolution2D(32,(3,3),activation ='relu', input_shape = input_shape))\n",
        "  model.add(layers.MaxPooling2D(pool_size=(2,2)))\n",
        "  model.add(layers.Dropout(0.25))\n",
        "  \n",
        "  model.add(layers.Flatten())\n",
        "  model.add(layers.Dense(512, activation='relu'))\n",
        "  model.add(layers.Dropout(0.5))\n",
        "  model.add(layers.Dense(classes, activation = 'softmax'))\n",
        "  return model"
      ],
      "execution_count": 0,
      "outputs": []
    },
    {
      "cell_type": "code",
      "metadata": {
        "id": "WQH7x_VPrs_4",
        "colab_type": "code",
        "colab": {
          "base_uri": "https://localhost:8080/",
          "height": 50
        },
        "outputId": "3cc059ef-b9c4-4cb1-d1c9-8c57fa0ce6f7"
      },
      "source": [
        "(X_train, y_train), (X_test, y_test) = datasets.cifar10.load_data()"
      ],
      "execution_count": 4,
      "outputs": [
        {
          "output_type": "stream",
          "text": [
            "Downloading data from https://www.cs.toronto.edu/~kriz/cifar-10-python.tar.gz\n",
            "170500096/170498071 [==============================] - 11s 0us/step\n"
          ],
          "name": "stdout"
        }
      ]
    },
    {
      "cell_type": "code",
      "metadata": {
        "id": "3oTH6b3ir8Jv",
        "colab_type": "code",
        "colab": {
          "base_uri": "https://localhost:8080/",
          "height": 34
        },
        "outputId": "18ce3824-00e9-45fc-b1a6-e3046b4dc13b"
      },
      "source": [
        "print(X_train.shape,y_train.shape, X_test.shape,y_test.shape)"
      ],
      "execution_count": 5,
      "outputs": [
        {
          "output_type": "stream",
          "text": [
            "(50000, 32, 32, 3) (50000, 1) (10000, 32, 32, 3) (10000, 1)\n"
          ],
          "name": "stdout"
        }
      ]
    },
    {
      "cell_type": "code",
      "metadata": {
        "id": "RALR0_-xsUV-",
        "colab_type": "code",
        "colab": {}
      },
      "source": [
        "X_train = X_train.reshape((50000, 32, 32, 3))\n",
        "X_test = X_test.reshape((10000, 32,32,3))\n",
        "X_train, X_test = X_train/255.0, X_test/255.0\n",
        "X_train = X_train.astype('float32')\n",
        "X_test = X_test.astype('float32')\n",
        "y_train = tf.keras.utils.to_categorical(y_train, CLASSES)\n",
        "y_test = tf.keras.utils.to_categorical(y_test, CLASSES)"
      ],
      "execution_count": 0,
      "outputs": []
    },
    {
      "cell_type": "code",
      "metadata": {
        "id": "F7LyGCoEseWK",
        "colab_type": "code",
        "colab": {
          "base_uri": "https://localhost:8080/",
          "height": 34
        },
        "outputId": "ec669036-67ca-4ddf-ae2c-99c8390482b5"
      },
      "source": [
        "print(X_train.shape,y_train.shape, X_test.shape,y_test.shape)"
      ],
      "execution_count": 7,
      "outputs": [
        {
          "output_type": "stream",
          "text": [
            "(50000, 32, 32, 3) (50000, 10) (10000, 32, 32, 3) (10000, 10)\n"
          ],
          "name": "stdout"
        }
      ]
    },
    {
      "cell_type": "code",
      "metadata": {
        "id": "R2anpPGCpwCc",
        "colab_type": "code",
        "colab": {
          "base_uri": "https://localhost:8080/",
          "height": 386
        },
        "outputId": "c0e0cde3-c9d6-4ecf-a246-f3798f1c6714"
      },
      "source": [
        "model = build(input_shape = INPUT_SHAPE, classes = CLASSES)\n",
        "model.compile(loss = 'categorical_crossentropy', optimizer = OPTIM, metrics = ['accuracy'])\n",
        "model.summary()"
      ],
      "execution_count": 8,
      "outputs": [
        {
          "output_type": "stream",
          "text": [
            "Model: \"sequential\"\n",
            "_________________________________________________________________\n",
            "Layer (type)                 Output Shape              Param #   \n",
            "=================================================================\n",
            "conv2d (Conv2D)              (None, 30, 30, 32)        896       \n",
            "_________________________________________________________________\n",
            "max_pooling2d (MaxPooling2D) (None, 15, 15, 32)        0         \n",
            "_________________________________________________________________\n",
            "dropout (Dropout)            (None, 15, 15, 32)        0         \n",
            "_________________________________________________________________\n",
            "flatten (Flatten)            (None, 7200)              0         \n",
            "_________________________________________________________________\n",
            "dense (Dense)                (None, 512)               3686912   \n",
            "_________________________________________________________________\n",
            "dropout_1 (Dropout)          (None, 512)               0         \n",
            "_________________________________________________________________\n",
            "dense_1 (Dense)              (None, 10)                5130      \n",
            "=================================================================\n",
            "Total params: 3,692,938\n",
            "Trainable params: 3,692,938\n",
            "Non-trainable params: 0\n",
            "_________________________________________________________________\n"
          ],
          "name": "stdout"
        }
      ]
    },
    {
      "cell_type": "code",
      "metadata": {
        "id": "edrVfxb9spHa",
        "colab_type": "code",
        "colab": {}
      },
      "source": [
        "callbacks = [tf.keras.callbacks.TensorBoard(log_dir=('./content/logs'))]"
      ],
      "execution_count": 0,
      "outputs": []
    },
    {
      "cell_type": "code",
      "metadata": {
        "id": "PKhN-WpstjNy",
        "colab_type": "code",
        "colab": {
          "base_uri": "https://localhost:8080/",
          "height": 689
        },
        "outputId": "082ba6c8-6ee4-4ef1-9dd0-b933c7588d66"
      },
      "source": [
        "history = model.fit(X_train, y_train, batch_size=BATCH_SIZE,\n",
        "                    epochs= EPOCHS, validation_split = VALIDATION_SPLIT,\n",
        "                    verbose = VERBOSE, callback = callbacks)"
      ],
      "execution_count": 10,
      "outputs": [
        {
          "output_type": "stream",
          "text": [
            "Epoch 1/20\n",
            "313/313 [==============================] - 5s 17ms/step - loss: 1.7241 - accuracy: 0.3896 - val_loss: 1.3871 - val_accuracy: 0.5145\n",
            "Epoch 2/20\n",
            "313/313 [==============================] - 5s 16ms/step - loss: 1.3745 - accuracy: 0.5176 - val_loss: 1.3322 - val_accuracy: 0.5376\n",
            "Epoch 3/20\n",
            "313/313 [==============================] - 5s 16ms/step - loss: 1.2469 - accuracy: 0.5623 - val_loss: 1.2106 - val_accuracy: 0.5793\n",
            "Epoch 4/20\n",
            "313/313 [==============================] - 5s 16ms/step - loss: 1.1557 - accuracy: 0.5965 - val_loss: 1.1207 - val_accuracy: 0.6125\n",
            "Epoch 5/20\n",
            "313/313 [==============================] - 5s 16ms/step - loss: 1.0798 - accuracy: 0.6226 - val_loss: 1.1703 - val_accuracy: 0.6023\n",
            "Epoch 6/20\n",
            "313/313 [==============================] - 5s 16ms/step - loss: 1.0117 - accuracy: 0.6470 - val_loss: 1.0882 - val_accuracy: 0.6161\n",
            "Epoch 7/20\n",
            "313/313 [==============================] - 5s 16ms/step - loss: 0.9588 - accuracy: 0.6676 - val_loss: 1.0843 - val_accuracy: 0.6202\n",
            "Epoch 8/20\n",
            "313/313 [==============================] - 5s 16ms/step - loss: 0.9138 - accuracy: 0.6816 - val_loss: 1.1773 - val_accuracy: 0.6200\n",
            "Epoch 9/20\n",
            "313/313 [==============================] - 5s 16ms/step - loss: 0.8720 - accuracy: 0.6974 - val_loss: 1.1591 - val_accuracy: 0.6196\n",
            "Epoch 10/20\n",
            "313/313 [==============================] - 5s 16ms/step - loss: 0.8274 - accuracy: 0.7147 - val_loss: 1.0322 - val_accuracy: 0.6503\n",
            "Epoch 11/20\n",
            "313/313 [==============================] - 5s 16ms/step - loss: 0.7964 - accuracy: 0.7232 - val_loss: 0.9871 - val_accuracy: 0.6756\n",
            "Epoch 12/20\n",
            "313/313 [==============================] - 5s 16ms/step - loss: 0.7529 - accuracy: 0.7386 - val_loss: 1.0491 - val_accuracy: 0.6514\n",
            "Epoch 13/20\n",
            "313/313 [==============================] - 5s 16ms/step - loss: 0.7277 - accuracy: 0.7505 - val_loss: 1.0277 - val_accuracy: 0.6612\n",
            "Epoch 14/20\n",
            "313/313 [==============================] - 5s 16ms/step - loss: 0.7010 - accuracy: 0.7592 - val_loss: 1.0724 - val_accuracy: 0.6608\n",
            "Epoch 15/20\n",
            "313/313 [==============================] - 5s 16ms/step - loss: 0.6706 - accuracy: 0.7692 - val_loss: 1.1039 - val_accuracy: 0.6521\n",
            "Epoch 16/20\n",
            "313/313 [==============================] - 5s 16ms/step - loss: 0.6456 - accuracy: 0.7777 - val_loss: 1.0409 - val_accuracy: 0.6653\n",
            "Epoch 17/20\n",
            "313/313 [==============================] - 5s 16ms/step - loss: 0.6209 - accuracy: 0.7879 - val_loss: 1.0557 - val_accuracy: 0.6762\n",
            "Epoch 18/20\n",
            "313/313 [==============================] - 5s 16ms/step - loss: 0.6036 - accuracy: 0.7926 - val_loss: 1.0223 - val_accuracy: 0.6785\n",
            "Epoch 19/20\n",
            "313/313 [==============================] - 5s 16ms/step - loss: 0.5814 - accuracy: 0.8032 - val_loss: 1.1382 - val_accuracy: 0.6644\n",
            "Epoch 20/20\n",
            "313/313 [==============================] - 5s 16ms/step - loss: 0.5639 - accuracy: 0.8068 - val_loss: 1.1978 - val_accuracy: 0.6705\n"
          ],
          "name": "stdout"
        }
      ]
    },
    {
      "cell_type": "code",
      "metadata": {
        "id": "Zn5oXL1UufKz",
        "colab_type": "code",
        "colab": {
          "base_uri": "https://localhost:8080/",
          "height": 573
        },
        "outputId": "b8e33241-4cdb-4d4d-aca8-358d8ad45c5d"
      },
      "source": [
        "import matplotlib.pyplot as plt\n",
        "plt.plot(history.history['accuracy'])\n",
        "plt.plot(history.history['val_accuracy'])\n",
        "plt.title('model accuracy')\n",
        "plt.ylabel('accuracy')\n",
        "plt.xlabel('epoch')\n",
        "plt.legend(['train', 'test'], loc='upper left')\n",
        "plt.show()\n",
        "# summarize history for loss\n",
        "plt.plot(history.history['loss'])\n",
        "plt.plot(history.history['val_loss'])\n",
        "plt.title('model loss')\n",
        "plt.ylabel('loss')\n",
        "plt.xlabel('epoch')\n",
        "plt.legend(['train', 'test'], loc='upper left')\n",
        "plt.show()"
      ],
      "execution_count": 11,
      "outputs": [
        {
          "output_type": "display_data",
          "data": {
            "image/png": "[encoded data removed]",
            "text/plain": [
              "<Figure size 432x288 with 1 Axes>"
            ]
          },
          "metadata": {
            "tags": [],
            "needs_background": "light"
          }
        },
        {
          "output_type": "display_data",
          "data": {
            "image/png": "[encoded data removed]",
            "text/plain": [
              "<Figure size 432x288 with 1 Axes>"
            ]
          },
          "metadata": {
            "tags": [],
            "needs_background": "light"
          }
        }
      ]
    },
    {
      "cell_type": "code",
      "metadata": {
        "id": "XxSaL4OzuKc5",
        "colab_type": "code",
        "colab": {
          "base_uri": "https://localhost:8080/",
          "height": 67
        },
        "outputId": "33bfc07f-df3a-417a-95ab-45c9cc12eeb7"
      },
      "source": [
        "score = model.evaluate(X_test, y_test, batch_size = BATCH_SIZE, verbose = VERBOSE)\n",
        "print(\"Test score: \", score[0])\n",
        "print(\"Test accuracy\", score[1])"
      ],
      "execution_count": 12,
      "outputs": [
        {
          "output_type": "stream",
          "text": [
            "79/79 [==============================] - 1s 6ms/step - loss: 1.2056 - accuracy: 0.6529\n",
            "Test score:  1.2056312561035156\n",
            "Test accuracy 0.652899980545044\n"
          ],
          "name": "stdout"
        }
      ]
    },
    {
      "cell_type": "markdown",
      "metadata": {
        "id": "ZlMy4xY3wido",
        "colab_type": "text"
      },
      "source": [
        "#Improving the CIFAR-10 performance with a deeper network\n",
        "- 1st Module: CONV + CONv + MaxPool + DropOut\n",
        "- 2nd Module: CONV + CONV + MaxPool + DropOut\n",
        "- 3rd Moudule: CONV + CONV + MaxPool + DropOut"
      ]
    },
    {
      "cell_type": "code",
      "metadata": {
        "id": "SwXy44SexajU",
        "colab_type": "code",
        "colab": {
          "base_uri": "https://localhost:8080/",
          "height": 34
        },
        "outputId": "8f317101-f8d7-4997-bc9f-1ea78124ef04"
      },
      "source": [
        "X_train.shape[1:]"
      ],
      "execution_count": 17,
      "outputs": [
        {
          "output_type": "execute_result",
          "data": {
            "text/plain": [
              "(32, 32, 3)"
            ]
          },
          "metadata": {
            "tags": []
          },
          "execution_count": 17
        }
      ]
    },
    {
      "cell_type": "code",
      "metadata": {
        "id": "LizLUK_RxPgo",
        "colab_type": "code",
        "colab": {}
      },
      "source": [
        "def build_model2():\n",
        "  model = models.Sequential()\n",
        "  #1st Module\n",
        "  model.add(layers.Conv2D(32,(3,3),padding = 'same', \n",
        "                          input_shape = x_train.shape[1:], activation = 'relu'))\n",
        "  model.add(layers.BatchNormalization())\n",
        "  model.add(layers.Conv2D(32,(3,3), padding = 'same', activation = 'relu'))\n",
        "  model.add(layers.BatchNormalization())\n",
        "  model.add(layers.MaxPooling2D(pool_size = (2,2)))\n",
        "  model.add(layers.Dropout(0.2))\n",
        "\n",
        "  #2nd Module\n",
        "  model.add(layers.Conv2D(64,(3,3), padding = 'same', activation = 'relu'))\n",
        "  model.add(layers.BatchNormalization())\n",
        "  model.add(layers.Conv2D(64,(3,3), padding = 'same', activation = 'relu'))\n",
        "  model.add(layers.BatchNormalization())\n",
        "  model.add(layers.MaxPooling2D(pool_size = (2,2)))\n",
        "  model.add(layers.Dropout(0.3))\n",
        "\n",
        "  #3rd Module\n",
        "  model.add(layers.Conv2D(128,(3,3), padding = 'same', activation = 'relu'))\n",
        "  model.add(layers.BatchNormalization())\n",
        "  model.add(layers.Conv2D(128,(3,3), padding = 'same', activation = 'relu'))\n",
        "  model.add(layers.BatchNormalization())\n",
        "  model.add(layers.MaxPooling2D(pool_size=(2,2)))\n",
        "  model.add(layers.Dropout(0.4))\n",
        "\n",
        "  # dense\n",
        "  model.add(layers.Flatten())\n",
        "  model.add(layers.Dense(NUM_CLASSES, activation = 'softmax'))\n",
        "  \n",
        "  model.summary()\n",
        "  return model\n"
      ],
      "execution_count": 0,
      "outputs": []
    },
    {
      "cell_type": "code",
      "metadata": {
        "id": "P0WloHsp0bMA",
        "colab_type": "code",
        "colab": {}
      },
      "source": [
        "from tensorflow.keras import regularizers\n",
        "from tensorflow.keras.preprocessing.image import ImageDataGenerator\n",
        "import numpy as np"
      ],
      "execution_count": 0,
      "outputs": []
    },
    {
      "cell_type": "code",
      "metadata": {
        "id": "qQmWs7Mx021Q",
        "colab_type": "code",
        "colab": {}
      },
      "source": [
        "EPOCHS = 50\n",
        "NUM_CLASSES = 10\n",
        "\n",
        "def load_data():\n",
        "  (x_train, y_train),(x_test, y_test) = datasets.cifar10.load_data()\n",
        "  x_train = x_train.astype('float32')\n",
        "  x_test = x_test.astype('float32')\n",
        "\n",
        "  # normalise\n",
        "  mean = np.mean(x_train,axis = (0,1,2,3))\n",
        "  std = np.std(x_train, axis = (0,1,2,3))\n",
        "  x_train = (x_train-mean)/(std + 1e-7)\n",
        "  x_test = (x_test-mean)/(std + 1e-7)\n",
        "\n",
        "  y_train = tf.keras.utils.to_categorical(y_train, NUM_CLASSES)\n",
        "  y_test = tf.keras.utils.to_categorical(y_test, NUM_CLASSES)\n",
        "\n",
        "  return x_train, y_train, x_test, y_test"
      ],
      "execution_count": 0,
      "outputs": []
    },
    {
      "cell_type": "code",
      "metadata": {
        "id": "rJtz5nmY2cpW",
        "colab_type": "code",
        "colab": {}
      },
      "source": [
        "(x_train, y_train, x_test, y_test) = load_data()"
      ],
      "execution_count": 0,
      "outputs": []
    },
    {
      "cell_type": "code",
      "metadata": {
        "id": "Eg2Jmt182pbm",
        "colab_type": "code",
        "colab": {
          "base_uri": "https://localhost:8080/",
          "height": 34
        },
        "outputId": "29efc782-11fd-4bad-ecc6-f5ccfd2264c5"
      },
      "source": [
        "x_train.shape"
      ],
      "execution_count": 26,
      "outputs": [
        {
          "output_type": "execute_result",
          "data": {
            "text/plain": [
              "(50000, 32, 32, 3)"
            ]
          },
          "metadata": {
            "tags": []
          },
          "execution_count": 26
        }
      ]
    },
    {
      "cell_type": "code",
      "metadata": {
        "id": "RH7KVIFb2w-v",
        "colab_type": "code",
        "colab": {
          "base_uri": "https://localhost:8080/",
          "height": 823
        },
        "outputId": "57461054-b62a-4498-bfc5-bea0fc7684f7"
      },
      "source": [
        "model2 = build_model2()"
      ],
      "execution_count": 33,
      "outputs": [
        {
          "output_type": "stream",
          "text": [
            "Model: \"sequential_3\"\n",
            "_________________________________________________________________\n",
            "Layer (type)                 Output Shape              Param #   \n",
            "=================================================================\n",
            "conv2d_7 (Conv2D)            (None, 32, 32, 32)        896       \n",
            "_________________________________________________________________\n",
            "batch_normalization_6 (Batch (None, 32, 32, 32)        128       \n",
            "_________________________________________________________________\n",
            "conv2d_8 (Conv2D)            (None, 32, 32, 32)        9248      \n",
            "_________________________________________________________________\n",
            "batch_normalization_7 (Batch (None, 32, 32, 32)        128       \n",
            "_________________________________________________________________\n",
            "max_pooling2d_4 (MaxPooling2 (None, 16, 16, 32)        0         \n",
            "_________________________________________________________________\n",
            "dropout_5 (Dropout)          (None, 16, 16, 32)        0         \n",
            "_________________________________________________________________\n",
            "conv2d_9 (Conv2D)            (None, 16, 16, 64)        18496     \n",
            "_________________________________________________________________\n",
            "batch_normalization_8 (Batch (None, 16, 16, 64)        256       \n",
            "_________________________________________________________________\n",
            "conv2d_10 (Conv2D)           (None, 16, 16, 64)        36928     \n",
            "_________________________________________________________________\n",
            "batch_normalization_9 (Batch (None, 16, 16, 64)        256       \n",
            "_________________________________________________________________\n",
            "max_pooling2d_5 (MaxPooling2 (None, 8, 8, 64)          0         \n",
            "_________________________________________________________________\n",
            "dropout_6 (Dropout)          (None, 8, 8, 64)          0         \n",
            "_________________________________________________________________\n",
            "conv2d_11 (Conv2D)           (None, 8, 8, 128)         73856     \n",
            "_________________________________________________________________\n",
            "batch_normalization_10 (Batc (None, 8, 8, 128)         512       \n",
            "_________________________________________________________________\n",
            "conv2d_12 (Conv2D)           (None, 8, 8, 128)         147584    \n",
            "_________________________________________________________________\n",
            "batch_normalization_11 (Batc (None, 8, 8, 128)         512       \n",
            "_________________________________________________________________\n",
            "max_pooling2d_6 (MaxPooling2 (None, 4, 4, 128)         0         \n",
            "_________________________________________________________________\n",
            "dropout_7 (Dropout)          (None, 4, 4, 128)         0         \n",
            "_________________________________________________________________\n",
            "flatten_2 (Flatten)          (None, 2048)              0         \n",
            "_________________________________________________________________\n",
            "dense_3 (Dense)              (None, 10)                20490     \n",
            "=================================================================\n",
            "Total params: 309,290\n",
            "Trainable params: 308,394\n",
            "Non-trainable params: 896\n",
            "_________________________________________________________________\n"
          ],
          "name": "stdout"
        }
      ]
    },
    {
      "cell_type": "code",
      "metadata": {
        "id": "qOmOBHfr24c2",
        "colab_type": "code",
        "colab": {
          "base_uri": "https://localhost:8080/",
          "height": 1000
        },
        "outputId": "26e96076-3b86-46a6-c120-aaa858d7ead6"
      },
      "source": [
        "model2.compile(loss = 'categorical_crossentropy', optimizer='RMSprop', metrics = ['accuracy'])\n",
        "batch_size = 64\n",
        "history2 = model2.fit(x_train, y_train, batch_size= batch_size, \n",
        "                     epochs = EPOCHS, validation_data = (x_test, y_test))"
      ],
      "execution_count": 34,
      "outputs": [
        {
          "output_type": "stream",
          "text": [
            "Epoch 1/50\n",
            "782/782 [==============================] - 28s 36ms/step - loss: 1.7381 - accuracy: 0.4705 - val_loss: 1.2428 - val_accuracy: 0.6190\n",
            "Epoch 2/50\n",
            "782/782 [==============================] - 27s 35ms/step - loss: 1.0382 - accuracy: 0.6539 - val_loss: 1.0081 - val_accuracy: 0.6591\n",
            "Epoch 3/50\n",
            "782/782 [==============================] - 27s 35ms/step - loss: 0.8327 - accuracy: 0.7169 - val_loss: 0.9106 - val_accuracy: 0.7067\n",
            "Epoch 4/50\n",
            "782/782 [==============================] - 27s 35ms/step - loss: 0.7122 - accuracy: 0.7560 - val_loss: 0.6592 - val_accuracy: 0.7753\n",
            "Epoch 5/50\n",
            "782/782 [==============================] - 27s 35ms/step - loss: 0.6323 - accuracy: 0.7786 - val_loss: 0.6046 - val_accuracy: 0.7943\n",
            "Epoch 6/50\n",
            "782/782 [==============================] - 27s 35ms/step - loss: 0.5739 - accuracy: 0.8013 - val_loss: 0.6064 - val_accuracy: 0.7969\n",
            "Epoch 7/50\n",
            "782/782 [==============================] - 27s 35ms/step - loss: 0.5259 - accuracy: 0.8161 - val_loss: 0.6130 - val_accuracy: 0.7982\n",
            "Epoch 8/50\n",
            "782/782 [==============================] - 27s 35ms/step - loss: 0.4934 - accuracy: 0.8270 - val_loss: 0.5290 - val_accuracy: 0.8266\n",
            "Epoch 9/50\n",
            "782/782 [==============================] - 27s 35ms/step - loss: 0.4559 - accuracy: 0.8414 - val_loss: 0.5599 - val_accuracy: 0.8148\n",
            "Epoch 10/50\n",
            "782/782 [==============================] - 27s 34ms/step - loss: 0.4271 - accuracy: 0.8492 - val_loss: 0.5356 - val_accuracy: 0.8223\n",
            "Epoch 11/50\n",
            "782/782 [==============================] - 27s 34ms/step - loss: 0.4049 - accuracy: 0.8591 - val_loss: 0.5477 - val_accuracy: 0.8189\n",
            "Epoch 12/50\n",
            "782/782 [==============================] - 27s 35ms/step - loss: 0.3839 - accuracy: 0.8658 - val_loss: 0.5569 - val_accuracy: 0.8214\n",
            "Epoch 13/50\n",
            "782/782 [==============================] - 27s 35ms/step - loss: 0.3683 - accuracy: 0.8693 - val_loss: 0.5180 - val_accuracy: 0.8310\n",
            "Epoch 14/50\n",
            "782/782 [==============================] - 27s 35ms/step - loss: 0.3485 - accuracy: 0.8764 - val_loss: 0.4783 - val_accuracy: 0.8401\n",
            "Epoch 15/50\n",
            "782/782 [==============================] - 27s 34ms/step - loss: 0.3312 - accuracy: 0.8839 - val_loss: 0.5159 - val_accuracy: 0.8356\n",
            "Epoch 16/50\n",
            "782/782 [==============================] - 27s 34ms/step - loss: 0.3211 - accuracy: 0.8860 - val_loss: 0.4823 - val_accuracy: 0.8467\n",
            "Epoch 17/50\n",
            "782/782 [==============================] - 27s 34ms/step - loss: 0.3041 - accuracy: 0.8931 - val_loss: 0.4854 - val_accuracy: 0.8447\n",
            "Epoch 18/50\n",
            "782/782 [==============================] - 27s 35ms/step - loss: 0.2940 - accuracy: 0.8949 - val_loss: 0.4918 - val_accuracy: 0.8415\n",
            "Epoch 19/50\n",
            "782/782 [==============================] - 27s 35ms/step - loss: 0.2870 - accuracy: 0.8981 - val_loss: 0.4925 - val_accuracy: 0.8436\n",
            "Epoch 20/50\n",
            "782/782 [==============================] - 27s 35ms/step - loss: 0.2751 - accuracy: 0.9022 - val_loss: 0.4876 - val_accuracy: 0.8481\n",
            "Epoch 21/50\n",
            "782/782 [==============================] - 27s 35ms/step - loss: 0.2694 - accuracy: 0.9053 - val_loss: 0.4544 - val_accuracy: 0.8580\n",
            "Epoch 22/50\n",
            "782/782 [==============================] - 27s 35ms/step - loss: 0.2610 - accuracy: 0.9077 - val_loss: 0.4765 - val_accuracy: 0.8536\n",
            "Epoch 23/50\n",
            "782/782 [==============================] - 27s 35ms/step - loss: 0.2554 - accuracy: 0.9096 - val_loss: 0.4888 - val_accuracy: 0.8488\n",
            "Epoch 24/50\n",
            "782/782 [==============================] - 27s 35ms/step - loss: 0.2486 - accuracy: 0.9122 - val_loss: 0.4634 - val_accuracy: 0.8548\n",
            "Epoch 25/50\n",
            "782/782 [==============================] - 27s 35ms/step - loss: 0.2390 - accuracy: 0.9142 - val_loss: 0.4803 - val_accuracy: 0.8525\n",
            "Epoch 26/50\n",
            "782/782 [==============================] - 27s 35ms/step - loss: 0.2302 - accuracy: 0.9190 - val_loss: 0.4920 - val_accuracy: 0.8505\n",
            "Epoch 27/50\n",
            "782/782 [==============================] - 27s 35ms/step - loss: 0.2289 - accuracy: 0.9181 - val_loss: 0.4974 - val_accuracy: 0.8486\n",
            "Epoch 28/50\n",
            "782/782 [==============================] - 27s 35ms/step - loss: 0.2259 - accuracy: 0.9200 - val_loss: 0.4939 - val_accuracy: 0.8562\n",
            "Epoch 29/50\n",
            "782/782 [==============================] - 27s 35ms/step - loss: 0.2158 - accuracy: 0.9223 - val_loss: 0.5140 - val_accuracy: 0.8501\n",
            "Epoch 30/50\n",
            "782/782 [==============================] - 27s 35ms/step - loss: 0.2121 - accuracy: 0.9254 - val_loss: 0.4932 - val_accuracy: 0.8529\n",
            "Epoch 31/50\n",
            "782/782 [==============================] - 27s 34ms/step - loss: 0.2081 - accuracy: 0.9256 - val_loss: 0.4911 - val_accuracy: 0.8545\n",
            "Epoch 32/50\n",
            "782/782 [==============================] - 27s 34ms/step - loss: 0.2034 - accuracy: 0.9263 - val_loss: 0.4965 - val_accuracy: 0.8557\n",
            "Epoch 33/50\n",
            "782/782 [==============================] - 27s 34ms/step - loss: 0.1987 - accuracy: 0.9308 - val_loss: 0.4949 - val_accuracy: 0.8598\n",
            "Epoch 34/50\n",
            "782/782 [==============================] - 27s 34ms/step - loss: 0.1936 - accuracy: 0.9292 - val_loss: 0.5046 - val_accuracy: 0.8509\n",
            "Epoch 35/50\n",
            "782/782 [==============================] - 27s 35ms/step - loss: 0.1907 - accuracy: 0.9332 - val_loss: 0.4772 - val_accuracy: 0.8582\n",
            "Epoch 36/50\n",
            "782/782 [==============================] - 27s 35ms/step - loss: 0.1935 - accuracy: 0.9301 - val_loss: 0.4855 - val_accuracy: 0.8573\n",
            "Epoch 37/50\n",
            "782/782 [==============================] - 27s 35ms/step - loss: 0.1842 - accuracy: 0.9337 - val_loss: 0.5614 - val_accuracy: 0.8480\n",
            "Epoch 38/50\n",
            "782/782 [==============================] - 27s 35ms/step - loss: 0.1833 - accuracy: 0.9349 - val_loss: 0.5013 - val_accuracy: 0.8571\n",
            "Epoch 39/50\n",
            "782/782 [==============================] - 27s 35ms/step - loss: 0.1781 - accuracy: 0.9369 - val_loss: 0.4940 - val_accuracy: 0.8558\n",
            "Epoch 40/50\n",
            "782/782 [==============================] - 27s 35ms/step - loss: 0.1743 - accuracy: 0.9372 - val_loss: 0.5268 - val_accuracy: 0.8568\n",
            "Epoch 41/50\n",
            "782/782 [==============================] - 27s 35ms/step - loss: 0.1757 - accuracy: 0.9383 - val_loss: 0.5189 - val_accuracy: 0.8544\n",
            "Epoch 42/50\n",
            "782/782 [==============================] - 27s 34ms/step - loss: 0.1738 - accuracy: 0.9380 - val_loss: 0.4912 - val_accuracy: 0.8604\n",
            "Epoch 43/50\n",
            "782/782 [==============================] - 27s 34ms/step - loss: 0.1693 - accuracy: 0.9393 - val_loss: 0.4987 - val_accuracy: 0.8586\n",
            "Epoch 44/50\n",
            "782/782 [==============================] - 27s 35ms/step - loss: 0.1635 - accuracy: 0.9426 - val_loss: 0.4984 - val_accuracy: 0.8607\n",
            "Epoch 45/50\n",
            "782/782 [==============================] - 27s 35ms/step - loss: 0.1659 - accuracy: 0.9414 - val_loss: 0.5212 - val_accuracy: 0.8576\n",
            "Epoch 46/50\n",
            "782/782 [==============================] - 27s 35ms/step - loss: 0.1596 - accuracy: 0.9427 - val_loss: 0.5108 - val_accuracy: 0.8607\n",
            "Epoch 47/50\n",
            "782/782 [==============================] - 27s 35ms/step - loss: 0.1597 - accuracy: 0.9428 - val_loss: 0.4928 - val_accuracy: 0.8612\n",
            "Epoch 48/50\n",
            "782/782 [==============================] - 27s 35ms/step - loss: 0.1578 - accuracy: 0.9427 - val_loss: 0.4909 - val_accuracy: 0.8625\n",
            "Epoch 49/50\n",
            "782/782 [==============================] - 27s 35ms/step - loss: 0.1546 - accuracy: 0.9450 - val_loss: 0.5025 - val_accuracy: 0.8592\n",
            "Epoch 50/50\n",
            "782/782 [==============================] - 27s 35ms/step - loss: 0.1544 - accuracy: 0.9449 - val_loss: 0.5125 - val_accuracy: 0.8599\n"
          ],
          "name": "stdout"
        }
      ]
    },
    {
      "cell_type": "code",
      "metadata": {
        "id": "gEBnHnaR3iII",
        "colab_type": "code",
        "colab": {
          "base_uri": "https://localhost:8080/",
          "height": 573
        },
        "outputId": "e17da9bd-c8a8-45d3-9710-df7138739c5c"
      },
      "source": [
        "plt.plot(history2.history['accuracy'])\n",
        "plt.plot(history2.history['val_accuracy'])\n",
        "plt.title('model accuracy')\n",
        "plt.ylabel('accuracy')\n",
        "plt.xlabel('epoch')\n",
        "plt.legend(['train', 'test'], loc='upper left')\n",
        "plt.show()\n",
        "# summarize history for loss\n",
        "plt.plot(history2.history['loss'])\n",
        "plt.plot(history2.history['val_loss'])\n",
        "plt.title('model loss')\n",
        "plt.ylabel('loss')\n",
        "plt.xlabel('epoch')\n",
        "plt.legend(['train', 'test'], loc='upper left')\n",
        "plt.show()"
      ],
      "execution_count": 37,
      "outputs": [
        {
          "output_type": "display_data",
          "data": {
            "image/png": "[encoded data removed]",
            "text/plain": [
              "<Figure size 432x288 with 1 Axes>"
            ]
          },
          "metadata": {
            "tags": [],
            "needs_background": "light"
          }
        },
        {
          "output_type": "display_data",
          "data": {
            "image/png": "[encoded data removed]",
            "text/plain": [
              "<Figure size 432x288 with 1 Axes>"
            ]
          },
          "metadata": {
            "tags": [],
            "needs_background": "light"
          }
        }
      ]
    },
    {
      "cell_type": "code",
      "metadata": {
        "id": "2lGSsZvN3zHa",
        "colab_type": "code",
        "colab": {
          "base_uri": "https://localhost:8080/",
          "height": 67
        },
        "outputId": "59007c36-e18e-48c4-891e-b227e2a64ad1"
      },
      "source": [
        "score = model2.evaluate(x_test, y_test, batch_size = batch_size)\n",
        "print('Test score: ', score[0])\n",
        "print('Test accuracy: ', score[1])"
      ],
      "execution_count": 38,
      "outputs": [
        {
          "output_type": "stream",
          "text": [
            "157/157 [==============================] - 1s 9ms/step - loss: 0.5125 - accuracy: 0.8599\n",
            "Test score:  0.5124581456184387\n",
            "Test accuracy:  0.8598999977111816\n"
          ],
          "name": "stdout"
        }
      ]
    },
    {
      "cell_type": "code",
      "metadata": {
        "id": "bEqTD85S_Mh8",
        "colab_type": "code",
        "colab": {}
      },
      "source": [
        "#saving model\n",
        "model_json = model2.to_json()\n",
        "with open('model2.json', 'w') as json_file:\n",
        "  json_file.write(model_json)\n",
        "\n",
        "model2.save_weights('cifar10.h5')"
      ],
      "execution_count": 0,
      "outputs": []
    },
    {
      "cell_type": "markdown",
      "metadata": {
        "id": "wFIWY-MS5s1c",
        "colab_type": "text"
      },
      "source": [
        "#IMPROVING PERFORMANCE WITH DATA AUGMENTATION\n",
        "- rotation, rescaling, horizontal/vertical flip, zooming, channel shift"
      ]
    },
    {
      "cell_type": "code",
      "metadata": {
        "id": "6uZBxixr4PN0",
        "colab_type": "code",
        "colab": {}
      },
      "source": [
        "datagen = ImageDataGenerator( rotation_range=30,\n",
        "                             width_shift_range = 0.2,\n",
        "                             height_shift_range = 0.2,\n",
        "                             horizontal_flip = True,)\n",
        "datagen.fit(x_train)"
      ],
      "execution_count": 0,
      "outputs": []
    },
    {
      "cell_type": "code",
      "metadata": {
        "id": "9nDow2a36Zjp",
        "colab_type": "code",
        "colab": {
          "base_uri": "https://localhost:8080/",
          "height": 50
        },
        "outputId": "561a013c-245a-4828-fc7b-e522e9e44509"
      },
      "source": [
        "batch_size = 64\n",
        "history3 = model2.fit_generator(datagen.flow(x_train, y_train, batch_size = batch_size),\n",
        "                     epochs = EPOCHS, verbose = 1,\n",
        "                     validation_data = (x_test, y_test))\n"
      ],
      "execution_count": 0,
      "outputs": [
        {
          "output_type": "stream",
          "text": [
            "Epoch 1/50\n",
            "  59852/Unknown - 3196s 53ms/step - loss: 0.5361 - accuracy: 0.8159"
          ],
          "name": "stdout"
        }
      ]
    },
    {
      "cell_type": "code",
      "metadata": {
        "id": "oOx4dvwR8mLJ",
        "colab_type": "code",
        "colab": {}
      },
      "source": [
        "#saving model\n",
        "model_json = model2.to_json()\n",
        "with open('model2.json', 'w') as json_file:\n",
        "  json_file.write(model_json)\n",
        "\n",
        "model2.save_weights(CIFAR10.h5)"
      ],
      "execution_count": 0,
      "outputs": []
    },
    {
      "cell_type": "code",
      "metadata": {
        "id": "fbpvcBEB8uyK",
        "colab_type": "code",
        "colab": {}
      },
      "source": [
        "scores = model2.evaluate(x_test, y_test, batch_size = 128, verbose=1)\n",
        "print(\"Test score: \", scores[0])\n",
        "print('Test accuracy: ', scores[1])"
      ],
      "execution_count": 0,
      "outputs": []
    },
    {
      "cell_type": "markdown",
      "metadata": {
        "id": "cEm82f0dA59v",
        "colab_type": "text"
      },
      "source": [
        "#PREDICTING WITH CIFAR-10"
      ]
    },
    {
      "cell_type": "code",
      "metadata": {
        "id": "_DtZUWTbA9iG",
        "colab_type": "code",
        "colab": {}
      },
      "source": [
        "import scipy.misc\n",
        "from tensorflow.keras.models import model_from_json\n",
        "from tensorflow.keras.optimizers import SGD\n",
        "\n",
        "model_architecture = '/content/model2.json'"
      ],
      "execution_count": 0,
      "outputs": []
    },
    {
      "cell_type": "code",
      "metadata": {
        "id": "cZDQVQBsCWhI",
        "colab_type": "code",
        "colab": {}
      },
      "source": [
        "model_weights = '/content/cifar10.h5'\n",
        "model = model_from_json(open(model_architecture).read())\n",
        "model.load_weights(model_weights)"
      ],
      "execution_count": 0,
      "outputs": []
    },
    {
      "cell_type": "code",
      "metadata": {
        "id": "x-30fcJNC8ft",
        "colab_type": "code",
        "colab": {}
      },
      "source": [
        "img_names = ['/content/cat.jpg','/content/dog.png']"
      ],
      "execution_count": 0,
      "outputs": []
    },
    {
      "cell_type": "code",
      "metadata": {
        "id": "rsfMa8gCC-hW",
        "colab_type": "code",
        "colab": {}
      },
      "source": [
        "from PIL import Image"
      ],
      "execution_count": 0,
      "outputs": []
    },
    {
      "cell_type": "code",
      "metadata": {
        "id": "wDdlc03cETP8",
        "colab_type": "code",
        "colab": {}
      },
      "source": [
        ""
      ],
      "execution_count": 0,
      "outputs": []
    }
  ]
}