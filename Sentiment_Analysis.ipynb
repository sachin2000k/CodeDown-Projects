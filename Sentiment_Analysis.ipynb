{
  "nbformat": 4,
  "nbformat_minor": 0,
  "metadata": {
    "colab": {
      "name": "Sentiment Analysis.ipynb",
      "provenance": [],
      "collapsed_sections": [],
      "authorship_tag": "ABX9TyNnokasAYXLYhf2D1y2Vrnr",
      "include_colab_link": true
    },
    "kernelspec": {
      "name": "python3",
      "display_name": "Python 3"
    }
  },
  "cells": [
    {
      "cell_type": "markdown",
      "metadata": {
        "id": "view-in-github",
        "colab_type": "text"
      },
      "source": [
        "<a href=\"https://colab.research.google.com/github/sachin2000k/CodeDown-Projects/blob/master/Sentiment_Analysis.ipynb\" target=\"_parent\"><img src=\"https://colab.research.google.com/assets/colab-badge.svg\" alt=\"Open In Colab\"/></a>"
      ]
    },
    {
      "cell_type": "markdown",
      "metadata": {
        "id": "vl8yySYNrBvR",
        "colab_type": "text"
      },
      "source": [
        "This is second application for continuing tensorflow. \n",
        "  - DataSet used is the IMDb dataset which consists of 50000 movie reviews"
      ]
    },
    {
      "cell_type": "code",
      "metadata": {
        "id": "_N2VCpZjq4vY",
        "colab_type": "code",
        "colab": {}
      },
      "source": [
        "import tensorflow as tf\n",
        "from tensorflow.keras import datasets, layers, models, preprocessing\n",
        "import tensorflow_datasets as tfds"
      ],
      "execution_count": 0,
      "outputs": []
    },
    {
      "cell_type": "code",
      "metadata": {
        "id": "jXFea2JSsGNW",
        "colab_type": "code",
        "colab": {}
      },
      "source": [
        "# sequence of words have been converted to sequence of integers where\n",
        "# each integer represents a word in dictioanry\n",
        "max_len = 200\n",
        "n_words = 10000\n",
        "dim_embeddings = 256\n",
        "EPOCHS = 20\n",
        "BATCH_SIZE = 500"
      ],
      "execution_count": 0,
      "outputs": []
    },
    {
      "cell_type": "code",
      "metadata": {
        "id": "DiY_HFhEs1R3",
        "colab_type": "code",
        "colab": {}
      },
      "source": [
        "def load_data():\n",
        "  (X_train, y_train), (X_test, y_test) = datasets.imdb.load_data(num_words=n_words)\n",
        "  X_train = preprocessing.sequence.pad_sequences(X_train, maxlen = max_len)\n",
        "  X_test = preprocessing.sequence.pad_sequences(X_test, maxlen=max_len)\n",
        "  return (X_train, y_train), (X_test, y_test)"
      ],
      "execution_count": 0,
      "outputs": []
    },
    {
      "cell_type": "markdown",
      "metadata": {
        "id": "rQy6u8vEwBmq",
        "colab_type": "text"
      },
      "source": [
        "In the model we need\n",
        "  - Input: - Embedding layer\n",
        "  - input size = (batch,input_length)\n",
        "  - output size = (input_length, dim_embedding)\n",
        "  - largest integer ininput to be less than n_words (vocabulary size)"
      ]
    },
    {
      "cell_type": "code",
      "metadata": {
        "id": "WOQc-41bt5cT",
        "colab_type": "code",
        "colab": {}
      },
      "source": [
        "def build_model():\n",
        "  model = models.Sequential()\n",
        "  model.add(layers.Embedding(n_words, dim_embeddings, input_length=max_len))\n",
        "  model.add(layers.Dropout(0.3))\n",
        "  model.add(layers.GlobalMaxPool1D())\n",
        "  model.add(layers.Dense(128, activation='relu'))\n",
        "  model.add(layers.Dropout(0.5))\n",
        "  model.add(layers.Dense(1,activation='sigmoid'))\n",
        "  return model"
      ],
      "execution_count": 0,
      "outputs": []
    },
    {
      "cell_type": "code",
      "metadata": {
        "id": "zcWQG-nt2QBf",
        "colab_type": "code",
        "colab": {
          "base_uri": "https://localhost:8080/",
          "height": 50
        },
        "outputId": "7dc1d161-4df1-40eb-dfc3-b9249227b9d9"
      },
      "source": [
        "(X_train, y_train),(X_test, y_test) = load_data()"
      ],
      "execution_count": 5,
      "outputs": [
        {
          "output_type": "stream",
          "text": [
            "Downloading data from https://storage.googleapis.com/tensorflow/tf-keras-datasets/imdb.npz\n",
            "17465344/17464789 [==============================] - 0s 0us/step\n"
          ],
          "name": "stdout"
        }
      ]
    },
    {
      "cell_type": "code",
      "metadata": {
        "id": "vymEntjS2juc",
        "colab_type": "code",
        "colab": {
          "base_uri": "https://localhost:8080/",
          "height": 353
        },
        "outputId": "bf8bf6fe-a25c-446f-afe0-8a2480b234dc"
      },
      "source": [
        "model = build_model()\n",
        "model.summary()"
      ],
      "execution_count": 6,
      "outputs": [
        {
          "output_type": "stream",
          "text": [
            "Model: \"sequential\"\n",
            "_________________________________________________________________\n",
            "Layer (type)                 Output Shape              Param #   \n",
            "=================================================================\n",
            "embedding (Embedding)        (None, 200, 256)          2560000   \n",
            "_________________________________________________________________\n",
            "dropout (Dropout)            (None, 200, 256)          0         \n",
            "_________________________________________________________________\n",
            "global_max_pooling1d (Global (None, 256)               0         \n",
            "_________________________________________________________________\n",
            "dense (Dense)                (None, 128)               32896     \n",
            "_________________________________________________________________\n",
            "dropout_1 (Dropout)          (None, 128)               0         \n",
            "_________________________________________________________________\n",
            "dense_1 (Dense)              (None, 1)                 129       \n",
            "=================================================================\n",
            "Total params: 2,593,025\n",
            "Trainable params: 2,593,025\n",
            "Non-trainable params: 0\n",
            "_________________________________________________________________\n"
          ],
          "name": "stdout"
        }
      ]
    },
    {
      "cell_type": "code",
      "metadata": {
        "id": "MBMy75FS20UC",
        "colab_type": "code",
        "colab": {}
      },
      "source": [
        "model.compile(optimizer = \"adam\", loss = \"binary_crossentropy\", metrics = [\"accuracy\"])"
      ],
      "execution_count": 0,
      "outputs": []
    },
    {
      "cell_type": "code",
      "metadata": {
        "id": "0JqEuaIt3Gki",
        "colab_type": "code",
        "colab": {
          "base_uri": "https://localhost:8080/",
          "height": 689
        },
        "outputId": "f010f04d-5fd7-4676-94f2-a339fa0b01db"
      },
      "source": [
        "score = model.fit(X_train, y_train,\n",
        "                  epochs = EPOCHS,\n",
        "                  batch_size = BATCH_SIZE,\n",
        "                  validation_data = (X_test, y_test))"
      ],
      "execution_count": 8,
      "outputs": [
        {
          "output_type": "stream",
          "text": [
            "Epoch 1/20\n",
            "50/50 [==============================] - 23s 468ms/step - loss: 0.6757 - accuracy: 0.6228 - val_loss: 0.6420 - val_accuracy: 0.8006\n",
            "Epoch 2/20\n",
            "50/50 [==============================] - 23s 465ms/step - loss: 0.4831 - accuracy: 0.8378 - val_loss: 0.3760 - val_accuracy: 0.8577\n",
            "Epoch 3/20\n",
            "50/50 [==============================] - 23s 470ms/step - loss: 0.2881 - accuracy: 0.8848 - val_loss: 0.3060 - val_accuracy: 0.8728\n",
            "Epoch 4/20\n",
            "50/50 [==============================] - 23s 464ms/step - loss: 0.2237 - accuracy: 0.9132 - val_loss: 0.2907 - val_accuracy: 0.8775\n",
            "Epoch 5/20\n",
            "50/50 [==============================] - 23s 464ms/step - loss: 0.1780 - accuracy: 0.9351 - val_loss: 0.3020 - val_accuracy: 0.8696\n",
            "Epoch 6/20\n",
            "50/50 [==============================] - 23s 464ms/step - loss: 0.1407 - accuracy: 0.9516 - val_loss: 0.3001 - val_accuracy: 0.8709\n",
            "Epoch 7/20\n",
            "50/50 [==============================] - 23s 466ms/step - loss: 0.1081 - accuracy: 0.9650 - val_loss: 0.3015 - val_accuracy: 0.8704\n",
            "Epoch 8/20\n",
            "50/50 [==============================] - 23s 466ms/step - loss: 0.0823 - accuracy: 0.9764 - val_loss: 0.3140 - val_accuracy: 0.8684\n",
            "Epoch 9/20\n",
            "50/50 [==============================] - 23s 463ms/step - loss: 0.0625 - accuracy: 0.9837 - val_loss: 0.3300 - val_accuracy: 0.8625\n",
            "Epoch 10/20\n",
            "50/50 [==============================] - 23s 465ms/step - loss: 0.0492 - accuracy: 0.9879 - val_loss: 0.3449 - val_accuracy: 0.8613\n",
            "Epoch 11/20\n",
            "50/50 [==============================] - 23s 465ms/step - loss: 0.0357 - accuracy: 0.9918 - val_loss: 0.3629 - val_accuracy: 0.8577\n",
            "Epoch 12/20\n",
            "50/50 [==============================] - 23s 465ms/step - loss: 0.0276 - accuracy: 0.9945 - val_loss: 0.3785 - val_accuracy: 0.8561\n",
            "Epoch 13/20\n",
            "50/50 [==============================] - 23s 463ms/step - loss: 0.0209 - accuracy: 0.9966 - val_loss: 0.4023 - val_accuracy: 0.8534\n",
            "Epoch 14/20\n",
            "50/50 [==============================] - 23s 465ms/step - loss: 0.0160 - accuracy: 0.9976 - val_loss: 0.4176 - val_accuracy: 0.8533\n",
            "Epoch 15/20\n",
            "50/50 [==============================] - 23s 466ms/step - loss: 0.0142 - accuracy: 0.9972 - val_loss: 0.4363 - val_accuracy: 0.8494\n",
            "Epoch 16/20\n",
            "50/50 [==============================] - 23s 468ms/step - loss: 0.0114 - accuracy: 0.9983 - val_loss: 0.4469 - val_accuracy: 0.8525\n",
            "Epoch 17/20\n",
            "50/50 [==============================] - 23s 466ms/step - loss: 0.0090 - accuracy: 0.9990 - val_loss: 0.4590 - val_accuracy: 0.8518\n",
            "Epoch 18/20\n",
            "50/50 [==============================] - 23s 466ms/step - loss: 0.0086 - accuracy: 0.9984 - val_loss: 0.4877 - val_accuracy: 0.8469\n",
            "Epoch 19/20\n",
            "50/50 [==============================] - 24s 480ms/step - loss: 0.0076 - accuracy: 0.9986 - val_loss: 0.4859 - val_accuracy: 0.8501\n",
            "Epoch 20/20\n",
            "50/50 [==============================] - 26s 515ms/step - loss: 0.0058 - accuracy: 0.9993 - val_loss: 0.4968 - val_accuracy: 0.8506\n"
          ],
          "name": "stdout"
        }
      ]
    },
    {
      "cell_type": "code",
      "metadata": {
        "id": "H-jcaiXV3X2y",
        "colab_type": "code",
        "colab": {
          "base_uri": "https://localhost:8080/",
          "height": 101
        },
        "outputId": "b1406507-1194-46ed-897f-b2ea06dc0060"
      },
      "source": [
        "score = model.evaluate(X_test, y_test, batch_size = BATCH_SIZE)\n",
        "print(\"\\nTest Score: \",score[0])\n",
        "print(\"\\nTest accuracy: \",score[1])"
      ],
      "execution_count": 9,
      "outputs": [
        {
          "output_type": "stream",
          "text": [
            "50/50 [==============================] - 2s 41ms/step - loss: 0.4968 - accuracy: 0.8506\n",
            "\n",
            "Test Score:  0.49681827425956726\n",
            "\n",
            "Test accuracy:  0.850600004196167\n"
          ],
          "name": "stdout"
        }
      ]
    },
    {
      "cell_type": "code",
      "metadata": {
        "id": "H4zeBHDE5ndn",
        "colab_type": "code",
        "colab": {
          "base_uri": "https://localhost:8080/",
          "height": 70
        },
        "outputId": "8ae7bd8d-7bc0-47d0-afaa-0090c683e2a3"
      },
      "source": [
        "sen = [[1,3,121,0,3,0,0,0,0]]\n",
        "print(model.predict(sen))"
      ],
      "execution_count": 14,
      "outputs": [
        {
          "output_type": "stream",
          "text": [
            "WARNING:tensorflow:Model was constructed with shape (None, 200) for input Tensor(\"embedding_input:0\", shape=(None, 200), dtype=float32), but it was called on an input with incompatible shape (None, 9).\n",
            "[[0.5488251]]\n"
          ],
          "name": "stdout"
        }
      ]
    }
  ]
}