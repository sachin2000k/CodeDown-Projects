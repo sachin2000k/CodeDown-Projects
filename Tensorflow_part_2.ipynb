{
  "nbformat": 4,
  "nbformat_minor": 0,
  "metadata": {
    "colab": {
      "name": "Tensorflow part 2.ipynb",
      "provenance": [],
      "collapsed_sections": [],
      "authorship_tag": "ABX9TyMtKipk5k63wwwP4Sb+wFMt",
      "include_colab_link": true
    },
    "kernelspec": {
      "name": "python3",
      "display_name": "Python 3"
    }
  },
  "cells": [
    {
      "cell_type": "markdown",
      "metadata": {
        "id": "view-in-github",
        "colab_type": "text"
      },
      "source": [
        "<a href=\"https://colab.research.google.com/github/sachin2000k/CodeDown-Projects/blob/master/Tensorflow_part_2.ipynb\" target=\"_parent\"><img src=\"https://colab.research.google.com/assets/colab-badge.svg\" alt=\"Open In Colab\"/></a>"
      ]
    },
    {
      "cell_type": "markdown",
      "metadata": {
        "id": "aUGoIJYOYQS5",
        "colab_type": "text"
      },
      "source": [
        "Understanding Tensorflow 1.x"
      ]
    },
    {
      "cell_type": "code",
      "metadata": {
        "id": "c2xXkwUyX3wK",
        "colab_type": "code",
        "colab": {}
      },
      "source": [
        "import tensorflow.compat.v1 as tf"
      ],
      "execution_count": 0,
      "outputs": []
    },
    {
      "cell_type": "code",
      "metadata": {
        "id": "2NEjaCD8-OHJ",
        "colab_type": "code",
        "colab": {
          "base_uri": "https://localhost:8080/",
          "height": 34
        },
        "outputId": "09a0e4e8-e46d-43d0-dc66-9f9913c1660b"
      },
      "source": [
        "print(tf.__version__)"
      ],
      "execution_count": 9,
      "outputs": [
        {
          "output_type": "stream",
          "text": [
            "2.2.0-rc2\n"
          ],
          "name": "stdout"
        }
      ]
    },
    {
      "cell_type": "code",
      "metadata": {
        "id": "mOdvWNeyyEHe",
        "colab_type": "code",
        "colab": {}
      },
      "source": [
        "tf.compat.v1.disable_eager_execution() \n",
        "# Eager execution: means that the model definitions are dynamic and\n",
        "#executuion is immediate\n",
        "'''\n",
        "Tensorflow 2.x natively supports eager execution ie. there is no need\n",
        "to define computational graph and execute it \n",
        "All models can be dynamically defiend and immediately executed\n",
        "'''"
      ],
      "execution_count": 0,
      "outputs": []
    },
    {
      "cell_type": "markdown",
      "metadata": {
        "id": "9-F9SMdbz_mo",
        "colab_type": "text"
      },
      "source": [
        "Tensorflow 1.x is diveided into two seperate parts :\n",
        "  - definition of Computational graph\n",
        "  - It's executuion"
      ]
    },
    {
      "cell_type": "code",
      "metadata": {
        "id": "xkQhc0LMYY65",
        "colab_type": "code",
        "outputId": "0a20c0a3-7959-4c73-d817-2475de3ecea1",
        "colab": {
          "base_uri": "https://localhost:8080/",
          "height": 50
        }
      },
      "source": [
        "message = tf.constant('Hello World!')\n",
        "with tf.Session() as sess:\n",
        "  sess.run(tf.global_variables_initializer())\n",
        "  print(sess.run(message))\n",
        "  print(sess.run(message).decode())"
      ],
      "execution_count": 6,
      "outputs": [
        {
          "output_type": "stream",
          "text": [
            "b'Hello World!'\n",
            "Hello World!\n"
          ],
          "name": "stdout"
        }
      ]
    },
    {
      "cell_type": "markdown",
      "metadata": {
        "id": "KvTasmBG9_RK",
        "colab_type": "text"
      },
      "source": [
        "# adding two vectors"
      ]
    },
    {
      "cell_type": "code",
      "metadata": {
        "id": "OwlMJ4D9ZbML",
        "colab_type": "code",
        "colab": {
          "base_uri": "https://localhost:8080/",
          "height": 154
        },
        "outputId": "1bc815ed-41af-425f-c7e4-d44be97f003e"
      },
      "source": [
        "v1 = tf.constant([1,2,3,4])\n",
        "v2 = tf.constant([10,11,12,13])\n",
        "v_add = tf.add(v1,v2)\n",
        "v_add2 = v1+v2 # just to show it can be added in both the ways\n",
        "\n",
        "# sessions can be defined in two ways\n",
        "#first\n",
        "with tf.Session() as sess1: #Session is a class and sess1 is its object\n",
        "  print(\"Session 1\")\n",
        "  print(sess1.run(v_add)) # run() is a method in class Session\n",
        "  print(sess1.run(v_add2))\n",
        "#second\n",
        "sess2 = tf.Session()\n",
        "print(\"Session 2 \", sess2)\n",
        "print(sess2.run(v_add))\n",
        "print([v1,v2,v_add2])\n",
        "print(sess2.run([v1,v2,v_add2]))\n",
        "sess2.close() # remember to close the session if defining ecxplicitly"
      ],
      "execution_count": 15,
      "outputs": [
        {
          "output_type": "stream",
          "text": [
            "Session 1\n",
            "[11 13 15 17]\n",
            "[11 13 15 17]\n",
            "Session 2  <tensorflow.python.client.session.Session object at 0x7f12d6e61b70>\n",
            "[11 13 15 17]\n",
            "[<tf.Tensor 'Const_11:0' shape=(4,) dtype=int32>, <tf.Tensor 'Const_12:0' shape=(4,) dtype=int32>, <tf.Tensor 'add_10:0' shape=(4,) dtype=int32>]\n",
            "[array([1, 2, 3, 4], dtype=int32), array([10, 11, 12, 13], dtype=int32), array([11, 13, 15, 17], dtype=int32)]\n"
          ],
          "name": "stdout"
        }
      ]
    },
    {
      "cell_type": "markdown",
      "metadata": {
        "id": "Ep1X1oYTAnVq",
        "colab_type": "text"
      },
      "source": [
        "run(fetches, feed_dict=None, options=None, run_metadata)"
      ]
    },
    {
      "cell_type": "code",
      "metadata": {
        "id": "grzc6UnZ_UO1",
        "colab_type": "code",
        "colab": {
          "base_uri": "https://localhost:8080/",
          "height": 323
        },
        "outputId": "233473ed-13ca-4663-a36c-11e4dd87701f"
      },
      "source": [
        "#Now if we try to print the session object after it is closed it \n",
        "# will give an error\n",
        "print(sess2.run(v1))"
      ],
      "execution_count": 17,
      "outputs": [
        {
          "output_type": "error",
          "ename": "RuntimeError",
          "evalue": "ignored",
          "traceback": [
            "\u001b[0;31m---------------------------------------------------------------------------\u001b[0m",
            "\u001b[0;31mRuntimeError\u001b[0m                              Traceback (most recent call last)",
            "\u001b[0;32m<ipython-input-17-443fab617b6c>\u001b[0m in \u001b[0;36m<module>\u001b[0;34m()\u001b[0m\n\u001b[0;32m----> 1\u001b[0;31m \u001b[0mprint\u001b[0m\u001b[0;34m(\u001b[0m\u001b[0msess2\u001b[0m\u001b[0;34m.\u001b[0m\u001b[0mrun\u001b[0m\u001b[0;34m(\u001b[0m\u001b[0mv1\u001b[0m\u001b[0;34m)\u001b[0m\u001b[0;34m)\u001b[0m\u001b[0;34m\u001b[0m\u001b[0;34m\u001b[0m\u001b[0m\n\u001b[0m",
            "\u001b[0;32m/usr/local/lib/python3.6/dist-packages/tensorflow/python/client/session.py\u001b[0m in \u001b[0;36mrun\u001b[0;34m(self, fetches, feed_dict, options, run_metadata)\u001b[0m\n\u001b[1;32m    956\u001b[0m     \u001b[0;32mtry\u001b[0m\u001b[0;34m:\u001b[0m\u001b[0;34m\u001b[0m\u001b[0;34m\u001b[0m\u001b[0m\n\u001b[1;32m    957\u001b[0m       result = self._run(None, fetches, feed_dict, options_ptr,\n\u001b[0;32m--> 958\u001b[0;31m                          run_metadata_ptr)\n\u001b[0m\u001b[1;32m    959\u001b[0m       \u001b[0;32mif\u001b[0m \u001b[0mrun_metadata\u001b[0m\u001b[0;34m:\u001b[0m\u001b[0;34m\u001b[0m\u001b[0;34m\u001b[0m\u001b[0m\n\u001b[1;32m    960\u001b[0m         \u001b[0mproto_data\u001b[0m \u001b[0;34m=\u001b[0m \u001b[0mtf_session\u001b[0m\u001b[0;34m.\u001b[0m\u001b[0mTF_GetBuffer\u001b[0m\u001b[0;34m(\u001b[0m\u001b[0mrun_metadata_ptr\u001b[0m\u001b[0;34m)\u001b[0m\u001b[0;34m\u001b[0m\u001b[0;34m\u001b[0m\u001b[0m\n",
            "\u001b[0;32m/usr/local/lib/python3.6/dist-packages/tensorflow/python/client/session.py\u001b[0m in \u001b[0;36m_run\u001b[0;34m(self, handle, fetches, feed_dict, options, run_metadata)\u001b[0m\n\u001b[1;32m   1102\u001b[0m     \u001b[0;31m# Check session.\u001b[0m\u001b[0;34m\u001b[0m\u001b[0;34m\u001b[0m\u001b[0;34m\u001b[0m\u001b[0m\n\u001b[1;32m   1103\u001b[0m     \u001b[0;32mif\u001b[0m \u001b[0mself\u001b[0m\u001b[0;34m.\u001b[0m\u001b[0m_closed\u001b[0m\u001b[0;34m:\u001b[0m\u001b[0;34m\u001b[0m\u001b[0;34m\u001b[0m\u001b[0m\n\u001b[0;32m-> 1104\u001b[0;31m       \u001b[0;32mraise\u001b[0m \u001b[0mRuntimeError\u001b[0m\u001b[0;34m(\u001b[0m\u001b[0;34m'Attempted to use a closed Session.'\u001b[0m\u001b[0;34m)\u001b[0m\u001b[0;34m\u001b[0m\u001b[0;34m\u001b[0m\u001b[0m\n\u001b[0m\u001b[1;32m   1105\u001b[0m     \u001b[0;32mif\u001b[0m \u001b[0mself\u001b[0m\u001b[0;34m.\u001b[0m\u001b[0mgraph\u001b[0m\u001b[0;34m.\u001b[0m\u001b[0mversion\u001b[0m \u001b[0;34m==\u001b[0m \u001b[0;36m0\u001b[0m\u001b[0;34m:\u001b[0m\u001b[0;34m\u001b[0m\u001b[0;34m\u001b[0m\u001b[0m\n\u001b[1;32m   1106\u001b[0m       raise RuntimeError('The Session graph is empty.  Add operations to the '\n",
            "\u001b[0;31mRuntimeError\u001b[0m: Attempted to use a closed Session."
          ]
        }
      ]
    },
    {
      "cell_type": "markdown",
      "metadata": {
        "id": "d1wpFW8ACnGU",
        "colab_type": "text"
      },
      "source": [
        "- A tensor is an n-dimensional array\n",
        "- Scalar : 0-D tensor [ ]\n",
        "- Vector : 1-D Tensor [ D0 ]\n",
        "- Matrix : 2-D Tensor [ D0 , D1 ]\n",
        "- Tensors: n-D Tensor [ D0 , D1 , ......D(N-1)]"
      ]
    },
    {
      "cell_type": "markdown",
      "metadata": {
        "id": "OdQ0Ds-wDX-x",
        "colab_type": "text"
      },
      "source": [
        "**THERE ARE THREE TYPES OF TENSORS**\n",
        " - Constants :  value cannot be changed\n",
        " - Variables : as the name suggests, eg: weights in neural networks\n",
        " - Placeholders : values are assigned while the running the graph session. No need of initialization"
      ]
    },
    {
      "cell_type": "code",
      "metadata": {
        "id": "CpR09dasDXZt",
        "colab_type": "code",
        "colab": {
          "base_uri": "https://localhost:8080/",
          "height": 34
        },
        "outputId": "a10ba442-f3a3-4559-a35e-b588fbc40403"
      },
      "source": [
        "# EXAMPLES\n",
        "t1 = tf.constant(0)\n",
        "t2 = tf.constant([1,2,3])\n",
        "zero_t  = tf.zeros([2,3], dtype = tf.int32)\n",
        "print(zero_t.shape)"
      ],
      "execution_count": 18,
      "outputs": [
        {
          "output_type": "stream",
          "text": [
            "(2, 3)\n"
          ],
          "name": "stdout"
        }
      ]
    },
    {
      "cell_type": "code",
      "metadata": {
        "id": "bxucRg_qB1T4",
        "colab_type": "code",
        "colab": {
          "base_uri": "https://localhost:8080/",
          "height": 34
        },
        "outputId": "5fb65a22-1bad-46b1-934f-d16b314e8ce7"
      },
      "source": [
        "ones_t = tf.ones_like(t2) #  Create a ones matrix of same shape as t_2\n",
        "print(ones_t.shape)"
      ],
      "execution_count": 20,
      "outputs": [
        {
          "output_type": "stream",
          "text": [
            "(3,)\n"
          ],
          "name": "stdout"
        }
      ]
    },
    {
      "cell_type": "code",
      "metadata": {
        "id": "62Xe8UhlGB9f",
        "colab_type": "code",
        "colab": {}
      },
      "source": [
        "# sequences\n",
        "range_t = tf.linspace(2.0, 5.0, 5) #[2. 2.75, 3.5, 4.25, 5.]\n",
        "range2 = tf.range(10)"
      ],
      "execution_count": 0,
      "outputs": []
    },
    {
      "cell_type": "code",
      "metadata": {
        "id": "bH9rN1iAHtfh",
        "colab_type": "code",
        "colab": {
          "base_uri": "https://localhost:8080/",
          "height": 67
        },
        "outputId": "51027b84-45d1-438e-abb0-b3948ab3af7d"
      },
      "source": [
        "# Random Tensors\n",
        "t_random = tf.random_normal(shape=[2,3], mean=3.0, stddev=4.0, seed=12)\n",
        "print(t_random)\n",
        "with tf.Session() as see:\n",
        "  print(see.run(t_random))"
      ],
      "execution_count": 33,
      "outputs": [
        {
          "output_type": "stream",
          "text": [
            "Tensor(\"random_normal_2:0\", shape=(2, 3), dtype=float32)\n",
            "[[ 1.2534745   6.37991     2.9527605 ]\n",
            " [-0.53760314  2.2588985   3.8478067 ]]\n"
          ],
          "name": "stdout"
        }
      ]
    },
    {
      "cell_type": "code",
      "metadata": {
        "id": "E2drpisbIP14",
        "colab_type": "code",
        "colab": {
          "base_uri": "https://localhost:8080/",
          "height": 87
        },
        "outputId": "9b330528-c269-4389-c753-ab3066273991"
      },
      "source": [
        "# Varaibles\n",
        "rand_t = tf.random_uniform([50,50],minval=0,maxval=10,seed =0)\n",
        "t_a = tf.Variable(rand_t)\n",
        "weights = tf.Variable(tf.random_normal([100,100],stddev=2))\n",
        "weights2 = tf.Variable(weights.initialized_value(), name ='w2')"
      ],
      "execution_count": 40,
      "outputs": [
        {
          "output_type": "stream",
          "text": [
            "WARNING:tensorflow:From <ipython-input-40-63626f699828>:4: Variable.initialized_value (from tensorflow.python.ops.variables) is deprecated and will be removed in a future version.\n",
            "Instructions for updating:\n",
            "Use Variable.read_value. Variables in 2.X are initialized automatically both in eager and graph (inside tf.defun) contexts.\n"
          ],
          "name": "stdout"
        }
      ]
    },
    {
      "cell_type": "code",
      "metadata": {
        "id": "9JW26PeUPDhS",
        "colab_type": "code",
        "colab": {
          "base_uri": "https://localhost:8080/",
          "height": 134
        },
        "outputId": "016894da-1103-4264-f046-3af8234bbe1f"
      },
      "source": [
        "# All variable must be initialized initially\n",
        "intial = tf.global_variables_initializer()\n",
        "# each variable can be initialized seperately uson tf.Variable.initializer\n",
        "bias = tf.Variable(tf.zeros([100,100]))\n",
        "with tf.Session() as sess:\n",
        "  # print(sess.run(bias)) here will give error as it is not initialized\n",
        "  sess.run(bias.initializer)\n",
        "  print(sess.run(bias))"
      ],
      "execution_count": 44,
      "outputs": [
        {
          "output_type": "stream",
          "text": [
            "[[0. 0. 0. ... 0. 0. 0.]\n",
            " [0. 0. 0. ... 0. 0. 0.]\n",
            " [0. 0. 0. ... 0. 0. 0.]\n",
            " ...\n",
            " [0. 0. 0. ... 0. 0. 0.]\n",
            " [0. 0. 0. ... 0. 0. 0.]\n",
            " [0. 0. 0. ... 0. 0. 0.]]\n"
          ],
          "name": "stdout"
        }
      ]
    },
    {
      "cell_type": "code",
      "metadata": {
        "id": "fIRD8SpSQuBj",
        "colab_type": "code",
        "colab": {}
      },
      "source": [
        "# saving Variables\n",
        "saver = tf.train.Saver()"
      ],
      "execution_count": 0,
      "outputs": []
    },
    {
      "cell_type": "code",
      "metadata": {
        "id": "G3FPuIDBRt-Q",
        "colab_type": "code",
        "colab": {
          "base_uri": "https://localhost:8080/",
          "height": 84
        },
        "outputId": "21438150-f756-4fdb-a64e-f38936af1cfb"
      },
      "source": [
        "# PLACEHOLDERS\n",
        "x = tf.placeholder(dtype=\"float\",shape= None, name = None)\n",
        "y = 2*x\n",
        "data = tf.random_uniform([4,5],10)\n",
        "with tf.Session() as sess:\n",
        "  x_data = sess.run(data)\n",
        "  print(sess.run(y, feed_dict = {x:x_data}))"
      ],
      "execution_count": 54,
      "outputs": [
        {
          "output_type": "stream",
          "text": [
            "[[ 2.3499622  7.3942013 11.173929   8.572015   6.5316563]\n",
            " [ 7.704836   7.5776215 19.54388   17.726187   7.40333  ]\n",
            " [ 6.335636   2.831417   7.843381   3.1309414  2.411749 ]\n",
            " [10.347202   9.954483   4.2188435 13.960719  15.796191 ]]\n"
          ],
          "name": "stdout"
        }
      ]
    },
    {
      "cell_type": "markdown",
      "metadata": {
        "id": "xe_P31X9vRsj",
        "colab_type": "text"
      },
      "source": [
        "**UNDERSTANDING TENSORFLOW 2.X**"
      ]
    },
    {
      "cell_type": "code",
      "metadata": {
        "id": "I5JFwSpiTLBu",
        "colab_type": "code",
        "colab": {}
      },
      "source": [
        "'''\n",
        "EAGER EXECUTION: It can be turned off that is using dynamic models is\n",
        "defualt and can be turned off.\n",
        "\n",
        "AUTOGRAPH : Doing the programming in graphical manner is much faster and\n",
        "allows automatic optimization.\n",
        "For programmers doing imperactive programming  (coding style which we generally follow likecontrol flow such as if-while, print()) \n",
        "it is difficult to covert code into a graph format. \n",
        "AutoGraph takes eager-style Python code and automatically converts it into \n",
        "graph generating code.\n",
        "'''\n",
        "import tensorflow as tf\n",
        "def linear_layer(x):\n",
        "  return 3*x +2\n",
        "@tf.function   #use of decorator for using AutoGraph , only need to annotate one main function\n",
        "def simple_nn(x): \n",
        "  return tf.nn.relu(linear_layer(x)) #automatically transformed to computational graph\n",
        "\n",
        "def simple_function(x):\n",
        "  return 3*x +2"
      ],
      "execution_count": 0,
      "outputs": []
    },
    {
      "cell_type": "code",
      "metadata": {
        "id": "FB1Hoowzxs_z",
        "colab_type": "code",
        "colab": {
          "base_uri": "https://localhost:8080/",
          "height": 34
        },
        "outputId": "b0952b19-ad69-4310-b4d8-58fcd34b5707"
      },
      "source": [
        "simple_nn #special handler for interacting with tensorflow internals"
      ],
      "execution_count": 58,
      "outputs": [
        {
          "output_type": "execute_result",
          "data": {
            "text/plain": [
              "<tensorflow.python.eager.def_function.Function at 0x7f12d433a668>"
            ]
          },
          "metadata": {
            "tags": []
          },
          "execution_count": 58
        }
      ]
    },
    {
      "cell_type": "code",
      "metadata": {
        "id": "sGP6Kwavx9cR",
        "colab_type": "code",
        "colab": {
          "base_uri": "https://localhost:8080/",
          "height": 34
        },
        "outputId": "e5c2118a-1925-47ba-815b-44054cd051e7"
      },
      "source": [
        "simple_function #normal handler"
      ],
      "execution_count": 59,
      "outputs": [
        {
          "output_type": "execute_result",
          "data": {
            "text/plain": [
              "<function __main__.simple_function>"
            ]
          },
          "metadata": {
            "tags": []
          },
          "execution_count": 59
        }
      ]
    },
    {
      "cell_type": "code",
      "metadata": {
        "id": "f0qCPjqfyDsp",
        "colab_type": "code",
        "colab": {
          "base_uri": "https://localhost:8080/",
          "height": 34
        },
        "outputId": "9eb034c2-a327-4d7e-d981-cec38d87dba2"
      },
      "source": [
        "simple_nn(10)"
      ],
      "execution_count": 61,
      "outputs": [
        {
          "output_type": "execute_result",
          "data": {
            "text/plain": [
              "<tf.Tensor 'PartitionedCall:0' shape=() dtype=int32>"
            ]
          },
          "metadata": {
            "tags": []
          },
          "execution_count": 61
        }
      ]
    },
    {
      "cell_type": "code",
      "metadata": {
        "id": "vw2PT2pZy6P8",
        "colab_type": "code",
        "colab": {
          "base_uri": "https://localhost:8080/",
          "height": 255
        },
        "outputId": "874b8942-b9a7-4f88-958f-dd5a56502ca4"
      },
      "source": [
        "# for seeing the automatically generated piece of code\n",
        "print(tf.autograph.to_code(simple_nn.python_function))"
      ],
      "execution_count": 62,
      "outputs": [
        {
          "output_type": "stream",
          "text": [
            "def tf__simple_nn(x):\n",
            "    do_return = False\n",
            "    retval_ = ag__.UndefinedReturnValue()\n",
            "    with ag__.FunctionScope('simple_nn', 'fscope', ag__.ConversionOptions(recursive=True, user_requested=True, optional_features=(), internal_convert_user_code=True)) as fscope:\n",
            "        try:\n",
            "            do_return = True\n",
            "            retval_ = fscope.mark_return_value(ag__.converted_call(tf.nn.relu, (ag__.converted_call(linear_layer, (x,), None, fscope),), None, fscope))\n",
            "        except:\n",
            "            do_return = False\n",
            "            raise\n",
            "    (do_return,)\n",
            "    return ag__.retval(retval_)\n",
            "\n"
          ],
          "name": "stdout"
        }
      ]
    },
    {
      "cell_type": "markdown",
      "metadata": {
        "id": "sloA6N2K0C9E",
        "colab_type": "text"
      },
      "source": [
        "Checking the difference in speed between code with and withot @tf.function annotation\n",
        " - Here I am using LSTM layer which I will discuss in some other notebook"
      ]
    },
    {
      "cell_type": "code",
      "metadata": {
        "id": "jesWc7xFzmTS",
        "colab_type": "code",
        "colab": {
          "base_uri": "https://localhost:8080/",
          "height": 50
        },
        "outputId": "23ed2753-8088-444b-d2f6-9fc24db809e0"
      },
      "source": [
        "import timeit\n",
        "cell = tf.keras.layers.LSTMCell(100)\n",
        "\n",
        "@tf.function\n",
        "def fn(input, state):\n",
        "  return cell(input, state)\n",
        "\n",
        "inputi = tf.zeros([100,100])\n",
        "state = [tf.zeros([100, 100])] * 2\n",
        "cell(inputi,state)\n",
        "fn(inputi, state)\n",
        "graph_time = timeit.timeit(lambda: cell(inputi, state), number = 100)\n",
        "auto_graph_time = timeit.timeit(lambda: fn(inputi, state), number =100)\n",
        "print('graph_time: ', graph_time)\n",
        "print('auto_graph_time: ', auto_graph_time)"
      ],
      "execution_count": 65,
      "outputs": [
        {
          "output_type": "stream",
          "text": [
            "graph_time:  0.747039401998336\n",
            "auto_graph_time:  0.10038432200235547\n"
          ],
          "name": "stdout"
        }
      ]
    },
    {
      "cell_type": "markdown",
      "metadata": {
        "id": "7-oUpfMiHN3H",
        "colab_type": "text"
      },
      "source": [
        "#Keras API: three programming models\n",
        "1. Sequential API : used in 90% of cases. Check my notebook on tensorflow for better understanding\n",
        "2. Functional API\n",
        "3. Model Subclassing"
      ]
    },
    {
      "cell_type": "code",
      "metadata": {
        "id": "PFikLN32-YZx",
        "colab_type": "code",
        "colab": {}
      },
      "source": [
        "#  Functional API: \n",
        "# for model with more complex toplogies including multiple inputs\n",
        "# multiple outputs, residual connections with non-sequential flows etc\n",
        "def build_model():\n",
        "  text_input_a = tf.keras.Input(shape = (None,), dtype='int32')\n",
        "  text_input_b = tf.keras.Input(shape=(None,), dtype='int32')\n",
        "  shared_embedding = tf.keras.layers.Embedding(1000,128) #embedding for 1000 unique words and mapped to 128-dimensional vectors\n",
        "\n",
        "  embedded_input_a = shared_embedding(text_input_a)\n",
        "  embedded_input_b = shared_embedding(text_input_b)\n",
        "\n",
        "  prediction_a  = tf.keras.layers.Dense(1, activation='sigmoid' ,\n",
        "                                        name='prediction_a')(embedded_input_a)\n",
        "  prediction_b  = tf.keras.layers.Dense(1, activation='sigmoid',\n",
        "                                        name = 'prediction_b')(embedded_input_b)\n",
        "  \n",
        "  model = tf.keras.Model(inputs = [text_input_a, text_input_b],\n",
        "                         outputs = [prediction_a, prediction_b])\n",
        "  tf.keras.utils.plot_model(model, to_file='shared_model.png')\n",
        "\n",
        "build_model()"
      ],
      "execution_count": 0,
      "outputs": []
    },
    {
      "cell_type": "markdown",
      "metadata": {
        "id": "2PldGSfKLsIp",
        "colab_type": "text"
      },
      "source": [
        ""
      ]
    },
    {
      "cell_type": "code",
      "metadata": {
        "id": "yKOfYfDkKkNJ",
        "colab_type": "code",
        "colab": {
          "base_uri": "https://localhost:8080/",
          "height": 272
        },
        "outputId": "9cb786bc-c24e-41c8-d77a-90294f9d7017"
      },
      "source": [
        "from PIL import Image\n",
        "Image.open('/content/shared_model.png')"
      ],
      "execution_count": 71,
      "outputs": [
        {
          "output_type": "execute_result",
          "data": {
            "image/png": "[encoded data removed]",
            "text/plain": [
              "<PIL.PngImagePlugin.PngImageFile image mode=RGBA size=389x255 at 0x7F12D30AAE48>"
            ]
          },
          "metadata": {
            "tags": []
          },
          "execution_count": 71
        }
      ]
    },
    {
      "cell_type": "markdown",
      "metadata": {
        "id": "IeUHUCP8TGb7",
        "colab_type": "text"
      },
      "source": [
        "#Model Subclassing :\n",
        "- use only when you want to buid your own layers"
      ]
    },
    {
      "cell_type": "code",
      "metadata": {
        "id": "tSxAeSfoMEvK",
        "colab_type": "code",
        "colab": {}
      },
      "source": [
        "from tensorflow import keras\n",
        "from tensorflow.keras import layers"
      ],
      "execution_count": 0,
      "outputs": []
    },
    {
      "cell_type": "code",
      "metadata": {
        "id": "14M7qHKmOWoq",
        "colab_type": "code",
        "colab": {}
      },
      "source": [
        "class MyLayer(layers.Layer):\n",
        "  def __init__(self, output_dim, **kwargs):\n",
        "    self.output_dim = output_dim\n",
        "    super(MyLayer, self).__init__(**kwargs)\n",
        "\n",
        "  def build(self, input_shape):\n",
        "    self.kernel = self.add_weight(name='kernel',shape=(input_shape[1], self.output_dim),\n",
        "                                  initializer='uniform',trainable=True)\n",
        "  \n",
        "\n",
        "  def call(self, inputs):\n",
        "# Do the multiplication and return\n",
        "    return tf.matmul(inputs, self.kernel)"
      ],
      "execution_count": 0,
      "outputs": []
    },
    {
      "cell_type": "code",
      "metadata": {
        "id": "WYH25nulR7QH",
        "colab_type": "code",
        "colab": {}
      },
      "source": [
        "model = tf.keras.Sequential([MyLayer(20),\n",
        "                             layers.Activation('softmax')])"
      ],
      "execution_count": 0,
      "outputs": []
    },
    {
      "cell_type": "code",
      "metadata": {
        "id": "cWieItrBUeE4",
        "colab_type": "code",
        "colab": {}
      },
      "source": [
        ""
      ],
      "execution_count": 0,
      "outputs": []
    }
  ]
}