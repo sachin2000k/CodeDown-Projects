{
  "nbformat": 4,
  "nbformat_minor": 0,
  "metadata": {
    "colab": {
      "name": "VQA.ipynb",
      "provenance": [],
      "authorship_tag": "ABX9TyP8oe6Jt8f+ALwUpNvHFS/3",
      "include_colab_link": true
    },
    "kernelspec": {
      "name": "python3",
      "display_name": "Python 3"
    }
  },
  "cells": [
    {
      "cell_type": "markdown",
      "metadata": {
        "id": "view-in-github",
        "colab_type": "text"
      },
      "source": [
        "<a href=\"https://colab.research.google.com/github/sachin2000k/CodeDown-Projects/blob/master/VQA.ipynb\" target=\"_parent\"><img src=\"https://colab.research.google.com/assets/colab-badge.svg\" alt=\"Open In Colab\"/></a>"
      ]
    },
    {
      "cell_type": "markdown",
      "metadata": {
        "id": "98lrTWtJW-US",
        "colab_type": "text"
      },
      "source": [
        "demo for combing cnn and rnn models"
      ]
    },
    {
      "cell_type": "markdown",
      "metadata": {
        "id": "J47tytb7Th5c",
        "colab_type": "text"
      },
      "source": [
        "#VISUAL QUESTION ANSWERING"
      ]
    },
    {
      "cell_type": "code",
      "metadata": {
        "id": "WjrYm-F0TeU5",
        "colab_type": "code",
        "colab": {}
      },
      "source": [
        "import tensorflow as tf\n",
        "from tensorflow.keras import layers, models"
      ],
      "execution_count": 0,
      "outputs": []
    },
    {
      "cell_type": "markdown",
      "metadata": {
        "id": "ZM8Pc4lkVpPg",
        "colab_type": "text"
      },
      "source": [
        "#CNN model"
      ]
    },
    {
      "cell_type": "code",
      "metadata": {
        "id": "3x9-0QgITtY_",
        "colab_type": "code",
        "colab": {
          "base_uri": "https://localhost:8080/",
          "height": 487
        },
        "outputId": "c8c342d7-ed06-4355-90ca-72f2b48a98d8"
      },
      "source": [
        "cnn_model = models.Sequential()\n",
        "cnn_model.add(layers.Conv2D(64,(3,3), activation = 'relu', padding = 'same', input_shape= (224,224,3)))\n",
        "cnn_model.add(layers.Conv2D(64,(3,3), activation='relu'))\n",
        "cnn_model.add(layers.MaxPooling2D(2,2))\n",
        "cnn_model.add(layers.Conv2D(128,(3,3),activation = 'relu',padding = 'same'))\n",
        "cnn_model.add(layers.Conv2D(128,(3,3), activation='relu'))\n",
        "cnn_model.add(layers.MaxPooling2D(2,2))\n",
        "cnn_model.add(layers.Conv2D(256,(3,3), activation = 'relu', padding = 'same'))\n",
        "cnn_model.add(layers.Conv2D(256,(3,3), activation='relu'))\n",
        "cnn_model.add(layers.MaxPooling2D(2,2))\n",
        "cnn_model.add(layers.Flatten())\n",
        "cnn_model.summary()"
      ],
      "execution_count": 3,
      "outputs": [
        {
          "output_type": "stream",
          "text": [
            "Model: \"sequential\"\n",
            "_________________________________________________________________\n",
            "Layer (type)                 Output Shape              Param #   \n",
            "=================================================================\n",
            "conv2d (Conv2D)              (None, 224, 224, 64)      1792      \n",
            "_________________________________________________________________\n",
            "conv2d_1 (Conv2D)            (None, 222, 222, 64)      36928     \n",
            "_________________________________________________________________\n",
            "max_pooling2d (MaxPooling2D) (None, 111, 111, 64)      0         \n",
            "_________________________________________________________________\n",
            "conv2d_2 (Conv2D)            (None, 111, 111, 128)     73856     \n",
            "_________________________________________________________________\n",
            "conv2d_3 (Conv2D)            (None, 109, 109, 128)     147584    \n",
            "_________________________________________________________________\n",
            "max_pooling2d_1 (MaxPooling2 (None, 54, 54, 128)       0         \n",
            "_________________________________________________________________\n",
            "conv2d_4 (Conv2D)            (None, 54, 54, 256)       295168    \n",
            "_________________________________________________________________\n",
            "conv2d_5 (Conv2D)            (None, 52, 52, 256)       590080    \n",
            "_________________________________________________________________\n",
            "max_pooling2d_2 (MaxPooling2 (None, 26, 26, 256)       0         \n",
            "_________________________________________________________________\n",
            "flatten (Flatten)            (None, 173056)            0         \n",
            "=================================================================\n",
            "Total params: 1,145,408\n",
            "Trainable params: 1,145,408\n",
            "Non-trainable params: 0\n",
            "_________________________________________________________________\n"
          ],
          "name": "stdout"
        }
      ]
    },
    {
      "cell_type": "code",
      "metadata": {
        "id": "U_Fkj_vGVOEy",
        "colab_type": "code",
        "colab": {}
      },
      "source": [
        "input_image = layers.Input(shape=(224,224,3))\n",
        "visual_model = cnn_model(input_image)"
      ],
      "execution_count": 0,
      "outputs": []
    },
    {
      "cell_type": "code",
      "metadata": {
        "id": "cq_CRENVVebd",
        "colab_type": "code",
        "colab": {
          "base_uri": "https://localhost:8080/",
          "height": 34
        },
        "outputId": "b7db46f9-c263-4adc-f70e-34d05f4677f9"
      },
      "source": [
        "visual_model"
      ],
      "execution_count": 6,
      "outputs": [
        {
          "output_type": "execute_result",
          "data": {
            "text/plain": [
              "<tf.Tensor 'sequential/Identity:0' shape=(None, 173056) dtype=float32>"
            ]
          },
          "metadata": {
            "tags": []
          },
          "execution_count": 6
        }
      ]
    },
    {
      "cell_type": "markdown",
      "metadata": {
        "id": "8Iae3gFPVrz1",
        "colab_type": "text"
      },
      "source": [
        "#RNN model"
      ]
    },
    {
      "cell_type": "code",
      "metadata": {
        "id": "oOE-sc2qVgdQ",
        "colab_type": "code",
        "colab": {}
      },
      "source": [
        "question_input = layers.Input(shape = (100,), dtype = 'int32')\n",
        "embedding = layers.Embedding(input_dim=10000, output_dim = 256, input_length = 100)(question_input)\n",
        "encoded_question = layers.LSTM(256)(embedding)"
      ],
      "execution_count": 0,
      "outputs": []
    },
    {
      "cell_type": "markdown",
      "metadata": {
        "id": "6dJI2MKGWJ_1",
        "colab_type": "text"
      },
      "source": [
        "#Combing two feature vectors"
      ]
    },
    {
      "cell_type": "code",
      "metadata": {
        "id": "jgVO08sHWHJK",
        "colab_type": "code",
        "colab": {}
      },
      "source": [
        "merged = layers.concatenate([encoded_question, visual_model])\n",
        "output = layers.Dense(1000, activation = 'softmax')(merged)"
      ],
      "execution_count": 0,
      "outputs": []
    },
    {
      "cell_type": "code",
      "metadata": {
        "id": "HcPnWb8EWa7-",
        "colab_type": "code",
        "colab": {
          "base_uri": "https://localhost:8080/",
          "height": 423
        },
        "outputId": "046f0fb0-55b1-4a6b-d299-2715944358c8"
      },
      "source": [
        "vqa_model = models.Model(inputs = [input_image, question_input], outputs = output)\n",
        "vqa_model.summary()"
      ],
      "execution_count": 10,
      "outputs": [
        {
          "output_type": "stream",
          "text": [
            "Model: \"model\"\n",
            "__________________________________________________________________________________________________\n",
            "Layer (type)                    Output Shape         Param #     Connected to                     \n",
            "==================================================================================================\n",
            "input_2 (InputLayer)            [(None, 100)]        0                                            \n",
            "__________________________________________________________________________________________________\n",
            "embedding (Embedding)           (None, 100, 256)     2560000     input_2[0][0]                    \n",
            "__________________________________________________________________________________________________\n",
            "input_1 (InputLayer)            [(None, 224, 224, 3) 0                                            \n",
            "__________________________________________________________________________________________________\n",
            "lstm (LSTM)                     (None, 256)          525312      embedding[0][0]                  \n",
            "__________________________________________________________________________________________________\n",
            "sequential (Sequential)         (None, 173056)       1145408     input_1[0][0]                    \n",
            "__________________________________________________________________________________________________\n",
            "concatenate (Concatenate)       (None, 173312)       0           lstm[0][0]                       \n",
            "                                                                 sequential[1][0]                 \n",
            "__________________________________________________________________________________________________\n",
            "dense (Dense)                   (None, 1000)         173313000   concatenate[0][0]                \n",
            "==================================================================================================\n",
            "Total params: 177,543,720\n",
            "Trainable params: 177,543,720\n",
            "Non-trainable params: 0\n",
            "__________________________________________________________________________________________________\n"
          ],
          "name": "stdout"
        }
      ]
    },
    {
      "cell_type": "code",
      "metadata": {
        "id": "UeGK1E6BWpyy",
        "colab_type": "code",
        "colab": {}
      },
      "source": [
        ""
      ],
      "execution_count": 0,
      "outputs": []
    }
  ]
}